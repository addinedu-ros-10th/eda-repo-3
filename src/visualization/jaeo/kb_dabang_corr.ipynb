{
 "cells": [
  {
   "cell_type": "code",
   "execution_count": 30,
   "id": "a619e4f0",
   "metadata": {},
   "outputs": [],
   "source": [
    "import pandas as pd\n",
    "import matplotlib.pyplot as plt\n",
    "import koreanize_matplotlib\n",
    "import folium\n",
    "from sqlalchemy import create_engine\n",
    "from shapely.geometry import shape\n",
    "from io import BytesIO\n",
    "import base64\n",
    "\n",
    "from dotenv import load_dotenv\n",
    "import os\n",
    "import json\n",
    "\n",
    "# .env 파일을 찾아 환경 변수로 로드\n",
    "load_dotenv()\n",
    "\n",
    "# 환경 변수 가져오기\n",
    "host = os.getenv(\"DB_HOST\")\n",
    "user = os.getenv(\"DB_USER\")\n",
    "password = os.getenv(\"DB_PASSWORD\")\n",
    "database = os.getenv(\"DB_NAME\")\n",
    "\n",
    "# ▶️ MySQL 연결\n",
    "engine = create_engine(f\"mysql+pymysql://{user}:{password}@{host}:3306/{database}\")\n"
   ]
  },
  {
   "cell_type": "code",
   "execution_count": 31,
   "id": "ae74c9bb",
   "metadata": {},
   "outputs": [
    {
     "data": {
      "text/html": [
       "<div>\n",
       "<style scoped>\n",
       "    .dataframe tbody tr th:only-of-type {\n",
       "        vertical-align: middle;\n",
       "    }\n",
       "\n",
       "    .dataframe tbody tr th {\n",
       "        vertical-align: top;\n",
       "    }\n",
       "\n",
       "    .dataframe thead th {\n",
       "        text-align: right;\n",
       "    }\n",
       "</style>\n",
       "<table border=\"1\" class=\"dataframe\">\n",
       "  <thead>\n",
       "    <tr style=\"text-align: right;\">\n",
       "      <th></th>\n",
       "      <th>id</th>\n",
       "      <th>district_name</th>\n",
       "      <th>total_places</th>\n",
       "      <th>cafe</th>\n",
       "      <th>restaurant</th>\n",
       "      <th>pub</th>\n",
       "      <th>animal_hospital</th>\n",
       "      <th>pet_beauty_salon</th>\n",
       "      <th>pet_store</th>\n",
       "      <th>pet_hotel</th>\n",
       "      <th>created_at</th>\n",
       "    </tr>\n",
       "  </thead>\n",
       "  <tbody>\n",
       "    <tr>\n",
       "      <th>0</th>\n",
       "      <td>1</td>\n",
       "      <td>마포구</td>\n",
       "      <td>1084</td>\n",
       "      <td>542</td>\n",
       "      <td>216</td>\n",
       "      <td>227</td>\n",
       "      <td>43</td>\n",
       "      <td>33</td>\n",
       "      <td>23</td>\n",
       "      <td>NaN</td>\n",
       "      <td>2025-07-05 06:27:31</td>\n",
       "    </tr>\n",
       "    <tr>\n",
       "      <th>1</th>\n",
       "      <td>2</td>\n",
       "      <td>강남구</td>\n",
       "      <td>837</td>\n",
       "      <td>332</td>\n",
       "      <td>198</td>\n",
       "      <td>154</td>\n",
       "      <td>75</td>\n",
       "      <td>48</td>\n",
       "      <td>22</td>\n",
       "      <td>8.0</td>\n",
       "      <td>2025-07-05 06:27:31</td>\n",
       "    </tr>\n",
       "    <tr>\n",
       "      <th>2</th>\n",
       "      <td>3</td>\n",
       "      <td>용산구</td>\n",
       "      <td>608</td>\n",
       "      <td>264</td>\n",
       "      <td>148</td>\n",
       "      <td>143</td>\n",
       "      <td>27</td>\n",
       "      <td>9</td>\n",
       "      <td>16</td>\n",
       "      <td>1.0</td>\n",
       "      <td>2025-07-05 06:27:31</td>\n",
       "    </tr>\n",
       "    <tr>\n",
       "      <th>3</th>\n",
       "      <td>4</td>\n",
       "      <td>송파구</td>\n",
       "      <td>569</td>\n",
       "      <td>256</td>\n",
       "      <td>105</td>\n",
       "      <td>71</td>\n",
       "      <td>65</td>\n",
       "      <td>42</td>\n",
       "      <td>21</td>\n",
       "      <td>9.0</td>\n",
       "      <td>2025-07-05 06:27:31</td>\n",
       "    </tr>\n",
       "    <tr>\n",
       "      <th>4</th>\n",
       "      <td>5</td>\n",
       "      <td>성동구</td>\n",
       "      <td>433</td>\n",
       "      <td>217</td>\n",
       "      <td>86</td>\n",
       "      <td>64</td>\n",
       "      <td>26</td>\n",
       "      <td>24</td>\n",
       "      <td>16</td>\n",
       "      <td>NaN</td>\n",
       "      <td>2025-07-05 06:27:31</td>\n",
       "    </tr>\n",
       "    <tr>\n",
       "      <th>5</th>\n",
       "      <td>6</td>\n",
       "      <td>강서구</td>\n",
       "      <td>421</td>\n",
       "      <td>174</td>\n",
       "      <td>89</td>\n",
       "      <td>50</td>\n",
       "      <td>45</td>\n",
       "      <td>35</td>\n",
       "      <td>22</td>\n",
       "      <td>6.0</td>\n",
       "      <td>2025-07-05 06:27:31</td>\n",
       "    </tr>\n",
       "    <tr>\n",
       "      <th>6</th>\n",
       "      <td>7</td>\n",
       "      <td>서초구</td>\n",
       "      <td>414</td>\n",
       "      <td>200</td>\n",
       "      <td>75</td>\n",
       "      <td>49</td>\n",
       "      <td>48</td>\n",
       "      <td>19</td>\n",
       "      <td>17</td>\n",
       "      <td>6.0</td>\n",
       "      <td>2025-07-05 06:27:31</td>\n",
       "    </tr>\n",
       "    <tr>\n",
       "      <th>7</th>\n",
       "      <td>8</td>\n",
       "      <td>광진구</td>\n",
       "      <td>343</td>\n",
       "      <td>174</td>\n",
       "      <td>52</td>\n",
       "      <td>45</td>\n",
       "      <td>31</td>\n",
       "      <td>19</td>\n",
       "      <td>20</td>\n",
       "      <td>2.0</td>\n",
       "      <td>2025-07-05 06:27:31</td>\n",
       "    </tr>\n",
       "    <tr>\n",
       "      <th>8</th>\n",
       "      <td>9</td>\n",
       "      <td>은평구</td>\n",
       "      <td>325</td>\n",
       "      <td>145</td>\n",
       "      <td>61</td>\n",
       "      <td>26</td>\n",
       "      <td>41</td>\n",
       "      <td>33</td>\n",
       "      <td>18</td>\n",
       "      <td>1.0</td>\n",
       "      <td>2025-07-05 06:27:31</td>\n",
       "    </tr>\n",
       "    <tr>\n",
       "      <th>9</th>\n",
       "      <td>10</td>\n",
       "      <td>영등포구</td>\n",
       "      <td>320</td>\n",
       "      <td>148</td>\n",
       "      <td>67</td>\n",
       "      <td>45</td>\n",
       "      <td>31</td>\n",
       "      <td>17</td>\n",
       "      <td>11</td>\n",
       "      <td>1.0</td>\n",
       "      <td>2025-07-05 06:27:31</td>\n",
       "    </tr>\n",
       "    <tr>\n",
       "      <th>10</th>\n",
       "      <td>11</td>\n",
       "      <td>종로구</td>\n",
       "      <td>318</td>\n",
       "      <td>178</td>\n",
       "      <td>68</td>\n",
       "      <td>45</td>\n",
       "      <td>11</td>\n",
       "      <td>5</td>\n",
       "      <td>10</td>\n",
       "      <td>1.0</td>\n",
       "      <td>2025-07-05 06:27:31</td>\n",
       "    </tr>\n",
       "    <tr>\n",
       "      <th>11</th>\n",
       "      <td>12</td>\n",
       "      <td>강동구</td>\n",
       "      <td>309</td>\n",
       "      <td>146</td>\n",
       "      <td>50</td>\n",
       "      <td>28</td>\n",
       "      <td>43</td>\n",
       "      <td>23</td>\n",
       "      <td>16</td>\n",
       "      <td>3.0</td>\n",
       "      <td>2025-07-05 06:27:31</td>\n",
       "    </tr>\n",
       "    <tr>\n",
       "      <th>12</th>\n",
       "      <td>13</td>\n",
       "      <td>성북구</td>\n",
       "      <td>301</td>\n",
       "      <td>153</td>\n",
       "      <td>45</td>\n",
       "      <td>34</td>\n",
       "      <td>34</td>\n",
       "      <td>17</td>\n",
       "      <td>16</td>\n",
       "      <td>2.0</td>\n",
       "      <td>2025-07-05 06:27:31</td>\n",
       "    </tr>\n",
       "    <tr>\n",
       "      <th>13</th>\n",
       "      <td>14</td>\n",
       "      <td>서대문구</td>\n",
       "      <td>295</td>\n",
       "      <td>130</td>\n",
       "      <td>68</td>\n",
       "      <td>40</td>\n",
       "      <td>24</td>\n",
       "      <td>16</td>\n",
       "      <td>14</td>\n",
       "      <td>3.0</td>\n",
       "      <td>2025-07-05 06:27:31</td>\n",
       "    </tr>\n",
       "    <tr>\n",
       "      <th>14</th>\n",
       "      <td>15</td>\n",
       "      <td>관악구</td>\n",
       "      <td>284</td>\n",
       "      <td>133</td>\n",
       "      <td>50</td>\n",
       "      <td>32</td>\n",
       "      <td>25</td>\n",
       "      <td>26</td>\n",
       "      <td>14</td>\n",
       "      <td>4.0</td>\n",
       "      <td>2025-07-05 06:27:31</td>\n",
       "    </tr>\n",
       "    <tr>\n",
       "      <th>15</th>\n",
       "      <td>16</td>\n",
       "      <td>중구</td>\n",
       "      <td>258</td>\n",
       "      <td>109</td>\n",
       "      <td>54</td>\n",
       "      <td>58</td>\n",
       "      <td>17</td>\n",
       "      <td>5</td>\n",
       "      <td>13</td>\n",
       "      <td>2.0</td>\n",
       "      <td>2025-07-05 06:27:31</td>\n",
       "    </tr>\n",
       "    <tr>\n",
       "      <th>16</th>\n",
       "      <td>17</td>\n",
       "      <td>중랑구</td>\n",
       "      <td>233</td>\n",
       "      <td>97</td>\n",
       "      <td>37</td>\n",
       "      <td>20</td>\n",
       "      <td>27</td>\n",
       "      <td>36</td>\n",
       "      <td>15</td>\n",
       "      <td>1.0</td>\n",
       "      <td>2025-07-05 06:27:31</td>\n",
       "    </tr>\n",
       "    <tr>\n",
       "      <th>17</th>\n",
       "      <td>18</td>\n",
       "      <td>강북구</td>\n",
       "      <td>226</td>\n",
       "      <td>91</td>\n",
       "      <td>47</td>\n",
       "      <td>26</td>\n",
       "      <td>24</td>\n",
       "      <td>22</td>\n",
       "      <td>15</td>\n",
       "      <td>1.0</td>\n",
       "      <td>2025-07-05 06:27:31</td>\n",
       "    </tr>\n",
       "    <tr>\n",
       "      <th>18</th>\n",
       "      <td>19</td>\n",
       "      <td>노원구</td>\n",
       "      <td>222</td>\n",
       "      <td>90</td>\n",
       "      <td>42</td>\n",
       "      <td>19</td>\n",
       "      <td>37</td>\n",
       "      <td>25</td>\n",
       "      <td>8</td>\n",
       "      <td>1.0</td>\n",
       "      <td>2025-07-05 06:27:31</td>\n",
       "    </tr>\n",
       "    <tr>\n",
       "      <th>19</th>\n",
       "      <td>20</td>\n",
       "      <td>동대문구</td>\n",
       "      <td>221</td>\n",
       "      <td>97</td>\n",
       "      <td>42</td>\n",
       "      <td>24</td>\n",
       "      <td>27</td>\n",
       "      <td>18</td>\n",
       "      <td>11</td>\n",
       "      <td>2.0</td>\n",
       "      <td>2025-07-05 06:27:31</td>\n",
       "    </tr>\n",
       "    <tr>\n",
       "      <th>20</th>\n",
       "      <td>21</td>\n",
       "      <td>양천구</td>\n",
       "      <td>217</td>\n",
       "      <td>78</td>\n",
       "      <td>41</td>\n",
       "      <td>9</td>\n",
       "      <td>45</td>\n",
       "      <td>25</td>\n",
       "      <td>17</td>\n",
       "      <td>2.0</td>\n",
       "      <td>2025-07-05 06:27:31</td>\n",
       "    </tr>\n",
       "    <tr>\n",
       "      <th>21</th>\n",
       "      <td>22</td>\n",
       "      <td>동작구</td>\n",
       "      <td>185</td>\n",
       "      <td>89</td>\n",
       "      <td>38</td>\n",
       "      <td>20</td>\n",
       "      <td>19</td>\n",
       "      <td>13</td>\n",
       "      <td>6</td>\n",
       "      <td>NaN</td>\n",
       "      <td>2025-07-05 06:27:31</td>\n",
       "    </tr>\n",
       "    <tr>\n",
       "      <th>22</th>\n",
       "      <td>23</td>\n",
       "      <td>구로구</td>\n",
       "      <td>163</td>\n",
       "      <td>68</td>\n",
       "      <td>29</td>\n",
       "      <td>11</td>\n",
       "      <td>29</td>\n",
       "      <td>11</td>\n",
       "      <td>13</td>\n",
       "      <td>2.0</td>\n",
       "      <td>2025-07-05 06:27:31</td>\n",
       "    </tr>\n",
       "    <tr>\n",
       "      <th>23</th>\n",
       "      <td>24</td>\n",
       "      <td>도봉구</td>\n",
       "      <td>162</td>\n",
       "      <td>55</td>\n",
       "      <td>35</td>\n",
       "      <td>11</td>\n",
       "      <td>22</td>\n",
       "      <td>30</td>\n",
       "      <td>9</td>\n",
       "      <td>NaN</td>\n",
       "      <td>2025-07-05 06:27:31</td>\n",
       "    </tr>\n",
       "    <tr>\n",
       "      <th>24</th>\n",
       "      <td>25</td>\n",
       "      <td>금천구</td>\n",
       "      <td>125</td>\n",
       "      <td>52</td>\n",
       "      <td>25</td>\n",
       "      <td>10</td>\n",
       "      <td>16</td>\n",
       "      <td>14</td>\n",
       "      <td>7</td>\n",
       "      <td>NaN</td>\n",
       "      <td>2025-07-05 06:27:31</td>\n",
       "    </tr>\n",
       "  </tbody>\n",
       "</table>\n",
       "</div>"
      ],
      "text/plain": [
       "    id district_name  total_places  cafe  restaurant  pub  animal_hospital  \\\n",
       "0    1           마포구          1084   542         216  227               43   \n",
       "1    2           강남구           837   332         198  154               75   \n",
       "2    3           용산구           608   264         148  143               27   \n",
       "3    4           송파구           569   256         105   71               65   \n",
       "4    5           성동구           433   217          86   64               26   \n",
       "5    6           강서구           421   174          89   50               45   \n",
       "6    7           서초구           414   200          75   49               48   \n",
       "7    8           광진구           343   174          52   45               31   \n",
       "8    9           은평구           325   145          61   26               41   \n",
       "9   10          영등포구           320   148          67   45               31   \n",
       "10  11           종로구           318   178          68   45               11   \n",
       "11  12           강동구           309   146          50   28               43   \n",
       "12  13           성북구           301   153          45   34               34   \n",
       "13  14          서대문구           295   130          68   40               24   \n",
       "14  15           관악구           284   133          50   32               25   \n",
       "15  16            중구           258   109          54   58               17   \n",
       "16  17           중랑구           233    97          37   20               27   \n",
       "17  18           강북구           226    91          47   26               24   \n",
       "18  19           노원구           222    90          42   19               37   \n",
       "19  20          동대문구           221    97          42   24               27   \n",
       "20  21           양천구           217    78          41    9               45   \n",
       "21  22           동작구           185    89          38   20               19   \n",
       "22  23           구로구           163    68          29   11               29   \n",
       "23  24           도봉구           162    55          35   11               22   \n",
       "24  25           금천구           125    52          25   10               16   \n",
       "\n",
       "    pet_beauty_salon  pet_store  pet_hotel          created_at  \n",
       "0                 33         23        NaN 2025-07-05 06:27:31  \n",
       "1                 48         22        8.0 2025-07-05 06:27:31  \n",
       "2                  9         16        1.0 2025-07-05 06:27:31  \n",
       "3                 42         21        9.0 2025-07-05 06:27:31  \n",
       "4                 24         16        NaN 2025-07-05 06:27:31  \n",
       "5                 35         22        6.0 2025-07-05 06:27:31  \n",
       "6                 19         17        6.0 2025-07-05 06:27:31  \n",
       "7                 19         20        2.0 2025-07-05 06:27:31  \n",
       "8                 33         18        1.0 2025-07-05 06:27:31  \n",
       "9                 17         11        1.0 2025-07-05 06:27:31  \n",
       "10                 5         10        1.0 2025-07-05 06:27:31  \n",
       "11                23         16        3.0 2025-07-05 06:27:31  \n",
       "12                17         16        2.0 2025-07-05 06:27:31  \n",
       "13                16         14        3.0 2025-07-05 06:27:31  \n",
       "14                26         14        4.0 2025-07-05 06:27:31  \n",
       "15                 5         13        2.0 2025-07-05 06:27:31  \n",
       "16                36         15        1.0 2025-07-05 06:27:31  \n",
       "17                22         15        1.0 2025-07-05 06:27:31  \n",
       "18                25          8        1.0 2025-07-05 06:27:31  \n",
       "19                18         11        2.0 2025-07-05 06:27:31  \n",
       "20                25         17        2.0 2025-07-05 06:27:31  \n",
       "21                13          6        NaN 2025-07-05 06:27:31  \n",
       "22                11         13        2.0 2025-07-05 06:27:31  \n",
       "23                30          9        NaN 2025-07-05 06:27:31  \n",
       "24                14          7        NaN 2025-07-05 06:27:31  "
      ]
     },
     "execution_count": 31,
     "metadata": {},
     "output_type": "execute_result"
    }
   ],
   "source": [
    "\n",
    "\n",
    "\n",
    "# ▶️ 서울 동물미용업 관련 인허가 정보 가져오기\n",
    "  # 영업/정상 : 필터링\n",
    "  # 서울특별시 : 지역으로 필터링\n",
    "  \n",
    "query = \"\"\"\n",
    "SELECT *\n",
    "FROM pet_friendly_zone_summary\n",
    "\"\"\"\n",
    "df_pet_friendly = pd.read_sql(query, engine)\n",
    "df_pet_friendly"
   ]
  },
  {
   "cell_type": "code",
   "execution_count": 32,
   "id": "77cf18ff",
   "metadata": {},
   "outputs": [
    {
     "data": {
      "text/html": [
       "<div>\n",
       "<style scoped>\n",
       "    .dataframe tbody tr th:only-of-type {\n",
       "        vertical-align: middle;\n",
       "    }\n",
       "\n",
       "    .dataframe tbody tr th {\n",
       "        vertical-align: top;\n",
       "    }\n",
       "\n",
       "    .dataframe thead th {\n",
       "        text-align: right;\n",
       "    }\n",
       "</style>\n",
       "<table border=\"1\" class=\"dataframe\">\n",
       "  <thead>\n",
       "    <tr style=\"text-align: right;\">\n",
       "      <th></th>\n",
       "      <th>district</th>\n",
       "      <th>companion_animal_registration</th>\n",
       "    </tr>\n",
       "  </thead>\n",
       "  <tbody>\n",
       "    <tr>\n",
       "      <th>0</th>\n",
       "      <td>강남구</td>\n",
       "      <td>34843</td>\n",
       "    </tr>\n",
       "    <tr>\n",
       "      <th>1</th>\n",
       "      <td>송파구</td>\n",
       "      <td>33706</td>\n",
       "    </tr>\n",
       "    <tr>\n",
       "      <th>2</th>\n",
       "      <td>강서구</td>\n",
       "      <td>33636</td>\n",
       "    </tr>\n",
       "    <tr>\n",
       "      <th>3</th>\n",
       "      <td>은평구</td>\n",
       "      <td>28005</td>\n",
       "    </tr>\n",
       "    <tr>\n",
       "      <th>4</th>\n",
       "      <td>노원구</td>\n",
       "      <td>27138</td>\n",
       "    </tr>\n",
       "    <tr>\n",
       "      <th>5</th>\n",
       "      <td>관악구</td>\n",
       "      <td>26408</td>\n",
       "    </tr>\n",
       "    <tr>\n",
       "      <th>6</th>\n",
       "      <td>강동구</td>\n",
       "      <td>25515</td>\n",
       "    </tr>\n",
       "    <tr>\n",
       "      <th>7</th>\n",
       "      <td>성북구</td>\n",
       "      <td>24200</td>\n",
       "    </tr>\n",
       "    <tr>\n",
       "      <th>8</th>\n",
       "      <td>서초구</td>\n",
       "      <td>23786</td>\n",
       "    </tr>\n",
       "    <tr>\n",
       "      <th>9</th>\n",
       "      <td>양천구</td>\n",
       "      <td>23770</td>\n",
       "    </tr>\n",
       "    <tr>\n",
       "      <th>10</th>\n",
       "      <td>마포구</td>\n",
       "      <td>23441</td>\n",
       "    </tr>\n",
       "    <tr>\n",
       "      <th>11</th>\n",
       "      <td>중랑구</td>\n",
       "      <td>23018</td>\n",
       "    </tr>\n",
       "    <tr>\n",
       "      <th>12</th>\n",
       "      <td>광진구</td>\n",
       "      <td>20272</td>\n",
       "    </tr>\n",
       "    <tr>\n",
       "      <th>13</th>\n",
       "      <td>도봉구</td>\n",
       "      <td>19873</td>\n",
       "    </tr>\n",
       "    <tr>\n",
       "      <th>14</th>\n",
       "      <td>구로구</td>\n",
       "      <td>19412</td>\n",
       "    </tr>\n",
       "    <tr>\n",
       "      <th>15</th>\n",
       "      <td>동대문구</td>\n",
       "      <td>19074</td>\n",
       "    </tr>\n",
       "    <tr>\n",
       "      <th>16</th>\n",
       "      <td>영등포구</td>\n",
       "      <td>18997</td>\n",
       "    </tr>\n",
       "    <tr>\n",
       "      <th>17</th>\n",
       "      <td>강북구</td>\n",
       "      <td>18585</td>\n",
       "    </tr>\n",
       "    <tr>\n",
       "      <th>18</th>\n",
       "      <td>동작구</td>\n",
       "      <td>18509</td>\n",
       "    </tr>\n",
       "    <tr>\n",
       "      <th>19</th>\n",
       "      <td>서대문구</td>\n",
       "      <td>17781</td>\n",
       "    </tr>\n",
       "    <tr>\n",
       "      <th>20</th>\n",
       "      <td>용산구</td>\n",
       "      <td>17760</td>\n",
       "    </tr>\n",
       "    <tr>\n",
       "      <th>21</th>\n",
       "      <td>성동구</td>\n",
       "      <td>16889</td>\n",
       "    </tr>\n",
       "    <tr>\n",
       "      <th>22</th>\n",
       "      <td>금천구</td>\n",
       "      <td>12925</td>\n",
       "    </tr>\n",
       "    <tr>\n",
       "      <th>23</th>\n",
       "      <td>종로구</td>\n",
       "      <td>9577</td>\n",
       "    </tr>\n",
       "    <tr>\n",
       "      <th>24</th>\n",
       "      <td>중구</td>\n",
       "      <td>8042</td>\n",
       "    </tr>\n",
       "  </tbody>\n",
       "</table>\n",
       "</div>"
      ],
      "text/plain": [
       "   district  companion_animal_registration\n",
       "0       강남구                          34843\n",
       "1       송파구                          33706\n",
       "2       강서구                          33636\n",
       "3       은평구                          28005\n",
       "4       노원구                          27138\n",
       "5       관악구                          26408\n",
       "6       강동구                          25515\n",
       "7       성북구                          24200\n",
       "8       서초구                          23786\n",
       "9       양천구                          23770\n",
       "10      마포구                          23441\n",
       "11      중랑구                          23018\n",
       "12      광진구                          20272\n",
       "13      도봉구                          19873\n",
       "14      구로구                          19412\n",
       "15     동대문구                          19074\n",
       "16     영등포구                          18997\n",
       "17      강북구                          18585\n",
       "18      동작구                          18509\n",
       "19     서대문구                          17781\n",
       "20      용산구                          17760\n",
       "21      성동구                          16889\n",
       "22      금천구                          12925\n",
       "23      종로구                           9577\n",
       "24       중구                           8042"
      ]
     },
     "execution_count": 32,
     "metadata": {},
     "output_type": "execute_result"
    }
   ],
   "source": [
    "query = \"\"\"\n",
    "SELECT \n",
    "    sigungu as district,\n",
    "    total_registered as companion_animal_registration\n",
    "FROM companion_animal_registration\n",
    "WHERE sido = '서울특별시'\n",
    "ORDER BY total_registered DESC\n",
    "\"\"\"\n",
    "df_companion = pd.read_sql(query, engine)\n",
    "df_companion"
   ]
  },
  {
   "cell_type": "code",
   "execution_count": 33,
   "id": "61320376",
   "metadata": {},
   "outputs": [
    {
     "data": {
      "text/html": [
       "<div>\n",
       "<style scoped>\n",
       "    .dataframe tbody tr th:only-of-type {\n",
       "        vertical-align: middle;\n",
       "    }\n",
       "\n",
       "    .dataframe tbody tr th {\n",
       "        vertical-align: top;\n",
       "    }\n",
       "\n",
       "    .dataframe thead th {\n",
       "        text-align: right;\n",
       "    }\n",
       "</style>\n",
       "<table border=\"1\" class=\"dataframe\">\n",
       "  <thead>\n",
       "    <tr style=\"text-align: right;\">\n",
       "      <th></th>\n",
       "      <th>id</th>\n",
       "      <th>district_name</th>\n",
       "      <th>total_places</th>\n",
       "      <th>cafe</th>\n",
       "      <th>restaurant</th>\n",
       "      <th>pub</th>\n",
       "      <th>animal_hospital</th>\n",
       "      <th>pet_beauty_salon</th>\n",
       "      <th>pet_store</th>\n",
       "      <th>pet_hotel</th>\n",
       "      <th>created_at</th>\n",
       "      <th>district</th>\n",
       "      <th>companion_animal_registration</th>\n",
       "    </tr>\n",
       "  </thead>\n",
       "  <tbody>\n",
       "    <tr>\n",
       "      <th>0</th>\n",
       "      <td>1</td>\n",
       "      <td>마포구</td>\n",
       "      <td>1084</td>\n",
       "      <td>542</td>\n",
       "      <td>216</td>\n",
       "      <td>227</td>\n",
       "      <td>43</td>\n",
       "      <td>33</td>\n",
       "      <td>23</td>\n",
       "      <td>NaN</td>\n",
       "      <td>2025-07-05 06:27:31</td>\n",
       "      <td>마포구</td>\n",
       "      <td>23441</td>\n",
       "    </tr>\n",
       "    <tr>\n",
       "      <th>1</th>\n",
       "      <td>2</td>\n",
       "      <td>강남구</td>\n",
       "      <td>837</td>\n",
       "      <td>332</td>\n",
       "      <td>198</td>\n",
       "      <td>154</td>\n",
       "      <td>75</td>\n",
       "      <td>48</td>\n",
       "      <td>22</td>\n",
       "      <td>8.0</td>\n",
       "      <td>2025-07-05 06:27:31</td>\n",
       "      <td>강남구</td>\n",
       "      <td>34843</td>\n",
       "    </tr>\n",
       "    <tr>\n",
       "      <th>2</th>\n",
       "      <td>3</td>\n",
       "      <td>용산구</td>\n",
       "      <td>608</td>\n",
       "      <td>264</td>\n",
       "      <td>148</td>\n",
       "      <td>143</td>\n",
       "      <td>27</td>\n",
       "      <td>9</td>\n",
       "      <td>16</td>\n",
       "      <td>1.0</td>\n",
       "      <td>2025-07-05 06:27:31</td>\n",
       "      <td>용산구</td>\n",
       "      <td>17760</td>\n",
       "    </tr>\n",
       "    <tr>\n",
       "      <th>3</th>\n",
       "      <td>4</td>\n",
       "      <td>송파구</td>\n",
       "      <td>569</td>\n",
       "      <td>256</td>\n",
       "      <td>105</td>\n",
       "      <td>71</td>\n",
       "      <td>65</td>\n",
       "      <td>42</td>\n",
       "      <td>21</td>\n",
       "      <td>9.0</td>\n",
       "      <td>2025-07-05 06:27:31</td>\n",
       "      <td>송파구</td>\n",
       "      <td>33706</td>\n",
       "    </tr>\n",
       "    <tr>\n",
       "      <th>4</th>\n",
       "      <td>5</td>\n",
       "      <td>성동구</td>\n",
       "      <td>433</td>\n",
       "      <td>217</td>\n",
       "      <td>86</td>\n",
       "      <td>64</td>\n",
       "      <td>26</td>\n",
       "      <td>24</td>\n",
       "      <td>16</td>\n",
       "      <td>NaN</td>\n",
       "      <td>2025-07-05 06:27:31</td>\n",
       "      <td>성동구</td>\n",
       "      <td>16889</td>\n",
       "    </tr>\n",
       "    <tr>\n",
       "      <th>5</th>\n",
       "      <td>6</td>\n",
       "      <td>강서구</td>\n",
       "      <td>421</td>\n",
       "      <td>174</td>\n",
       "      <td>89</td>\n",
       "      <td>50</td>\n",
       "      <td>45</td>\n",
       "      <td>35</td>\n",
       "      <td>22</td>\n",
       "      <td>6.0</td>\n",
       "      <td>2025-07-05 06:27:31</td>\n",
       "      <td>강서구</td>\n",
       "      <td>33636</td>\n",
       "    </tr>\n",
       "    <tr>\n",
       "      <th>6</th>\n",
       "      <td>7</td>\n",
       "      <td>서초구</td>\n",
       "      <td>414</td>\n",
       "      <td>200</td>\n",
       "      <td>75</td>\n",
       "      <td>49</td>\n",
       "      <td>48</td>\n",
       "      <td>19</td>\n",
       "      <td>17</td>\n",
       "      <td>6.0</td>\n",
       "      <td>2025-07-05 06:27:31</td>\n",
       "      <td>서초구</td>\n",
       "      <td>23786</td>\n",
       "    </tr>\n",
       "    <tr>\n",
       "      <th>7</th>\n",
       "      <td>8</td>\n",
       "      <td>광진구</td>\n",
       "      <td>343</td>\n",
       "      <td>174</td>\n",
       "      <td>52</td>\n",
       "      <td>45</td>\n",
       "      <td>31</td>\n",
       "      <td>19</td>\n",
       "      <td>20</td>\n",
       "      <td>2.0</td>\n",
       "      <td>2025-07-05 06:27:31</td>\n",
       "      <td>광진구</td>\n",
       "      <td>20272</td>\n",
       "    </tr>\n",
       "    <tr>\n",
       "      <th>8</th>\n",
       "      <td>9</td>\n",
       "      <td>은평구</td>\n",
       "      <td>325</td>\n",
       "      <td>145</td>\n",
       "      <td>61</td>\n",
       "      <td>26</td>\n",
       "      <td>41</td>\n",
       "      <td>33</td>\n",
       "      <td>18</td>\n",
       "      <td>1.0</td>\n",
       "      <td>2025-07-05 06:27:31</td>\n",
       "      <td>은평구</td>\n",
       "      <td>28005</td>\n",
       "    </tr>\n",
       "    <tr>\n",
       "      <th>9</th>\n",
       "      <td>10</td>\n",
       "      <td>영등포구</td>\n",
       "      <td>320</td>\n",
       "      <td>148</td>\n",
       "      <td>67</td>\n",
       "      <td>45</td>\n",
       "      <td>31</td>\n",
       "      <td>17</td>\n",
       "      <td>11</td>\n",
       "      <td>1.0</td>\n",
       "      <td>2025-07-05 06:27:31</td>\n",
       "      <td>영등포구</td>\n",
       "      <td>18997</td>\n",
       "    </tr>\n",
       "    <tr>\n",
       "      <th>10</th>\n",
       "      <td>11</td>\n",
       "      <td>종로구</td>\n",
       "      <td>318</td>\n",
       "      <td>178</td>\n",
       "      <td>68</td>\n",
       "      <td>45</td>\n",
       "      <td>11</td>\n",
       "      <td>5</td>\n",
       "      <td>10</td>\n",
       "      <td>1.0</td>\n",
       "      <td>2025-07-05 06:27:31</td>\n",
       "      <td>종로구</td>\n",
       "      <td>9577</td>\n",
       "    </tr>\n",
       "    <tr>\n",
       "      <th>11</th>\n",
       "      <td>12</td>\n",
       "      <td>강동구</td>\n",
       "      <td>309</td>\n",
       "      <td>146</td>\n",
       "      <td>50</td>\n",
       "      <td>28</td>\n",
       "      <td>43</td>\n",
       "      <td>23</td>\n",
       "      <td>16</td>\n",
       "      <td>3.0</td>\n",
       "      <td>2025-07-05 06:27:31</td>\n",
       "      <td>강동구</td>\n",
       "      <td>25515</td>\n",
       "    </tr>\n",
       "    <tr>\n",
       "      <th>12</th>\n",
       "      <td>13</td>\n",
       "      <td>성북구</td>\n",
       "      <td>301</td>\n",
       "      <td>153</td>\n",
       "      <td>45</td>\n",
       "      <td>34</td>\n",
       "      <td>34</td>\n",
       "      <td>17</td>\n",
       "      <td>16</td>\n",
       "      <td>2.0</td>\n",
       "      <td>2025-07-05 06:27:31</td>\n",
       "      <td>성북구</td>\n",
       "      <td>24200</td>\n",
       "    </tr>\n",
       "    <tr>\n",
       "      <th>13</th>\n",
       "      <td>14</td>\n",
       "      <td>서대문구</td>\n",
       "      <td>295</td>\n",
       "      <td>130</td>\n",
       "      <td>68</td>\n",
       "      <td>40</td>\n",
       "      <td>24</td>\n",
       "      <td>16</td>\n",
       "      <td>14</td>\n",
       "      <td>3.0</td>\n",
       "      <td>2025-07-05 06:27:31</td>\n",
       "      <td>서대문구</td>\n",
       "      <td>17781</td>\n",
       "    </tr>\n",
       "    <tr>\n",
       "      <th>14</th>\n",
       "      <td>15</td>\n",
       "      <td>관악구</td>\n",
       "      <td>284</td>\n",
       "      <td>133</td>\n",
       "      <td>50</td>\n",
       "      <td>32</td>\n",
       "      <td>25</td>\n",
       "      <td>26</td>\n",
       "      <td>14</td>\n",
       "      <td>4.0</td>\n",
       "      <td>2025-07-05 06:27:31</td>\n",
       "      <td>관악구</td>\n",
       "      <td>26408</td>\n",
       "    </tr>\n",
       "    <tr>\n",
       "      <th>15</th>\n",
       "      <td>16</td>\n",
       "      <td>중구</td>\n",
       "      <td>258</td>\n",
       "      <td>109</td>\n",
       "      <td>54</td>\n",
       "      <td>58</td>\n",
       "      <td>17</td>\n",
       "      <td>5</td>\n",
       "      <td>13</td>\n",
       "      <td>2.0</td>\n",
       "      <td>2025-07-05 06:27:31</td>\n",
       "      <td>중구</td>\n",
       "      <td>8042</td>\n",
       "    </tr>\n",
       "    <tr>\n",
       "      <th>16</th>\n",
       "      <td>17</td>\n",
       "      <td>중랑구</td>\n",
       "      <td>233</td>\n",
       "      <td>97</td>\n",
       "      <td>37</td>\n",
       "      <td>20</td>\n",
       "      <td>27</td>\n",
       "      <td>36</td>\n",
       "      <td>15</td>\n",
       "      <td>1.0</td>\n",
       "      <td>2025-07-05 06:27:31</td>\n",
       "      <td>중랑구</td>\n",
       "      <td>23018</td>\n",
       "    </tr>\n",
       "    <tr>\n",
       "      <th>17</th>\n",
       "      <td>18</td>\n",
       "      <td>강북구</td>\n",
       "      <td>226</td>\n",
       "      <td>91</td>\n",
       "      <td>47</td>\n",
       "      <td>26</td>\n",
       "      <td>24</td>\n",
       "      <td>22</td>\n",
       "      <td>15</td>\n",
       "      <td>1.0</td>\n",
       "      <td>2025-07-05 06:27:31</td>\n",
       "      <td>강북구</td>\n",
       "      <td>18585</td>\n",
       "    </tr>\n",
       "    <tr>\n",
       "      <th>18</th>\n",
       "      <td>19</td>\n",
       "      <td>노원구</td>\n",
       "      <td>222</td>\n",
       "      <td>90</td>\n",
       "      <td>42</td>\n",
       "      <td>19</td>\n",
       "      <td>37</td>\n",
       "      <td>25</td>\n",
       "      <td>8</td>\n",
       "      <td>1.0</td>\n",
       "      <td>2025-07-05 06:27:31</td>\n",
       "      <td>노원구</td>\n",
       "      <td>27138</td>\n",
       "    </tr>\n",
       "    <tr>\n",
       "      <th>19</th>\n",
       "      <td>20</td>\n",
       "      <td>동대문구</td>\n",
       "      <td>221</td>\n",
       "      <td>97</td>\n",
       "      <td>42</td>\n",
       "      <td>24</td>\n",
       "      <td>27</td>\n",
       "      <td>18</td>\n",
       "      <td>11</td>\n",
       "      <td>2.0</td>\n",
       "      <td>2025-07-05 06:27:31</td>\n",
       "      <td>동대문구</td>\n",
       "      <td>19074</td>\n",
       "    </tr>\n",
       "    <tr>\n",
       "      <th>20</th>\n",
       "      <td>21</td>\n",
       "      <td>양천구</td>\n",
       "      <td>217</td>\n",
       "      <td>78</td>\n",
       "      <td>41</td>\n",
       "      <td>9</td>\n",
       "      <td>45</td>\n",
       "      <td>25</td>\n",
       "      <td>17</td>\n",
       "      <td>2.0</td>\n",
       "      <td>2025-07-05 06:27:31</td>\n",
       "      <td>양천구</td>\n",
       "      <td>23770</td>\n",
       "    </tr>\n",
       "    <tr>\n",
       "      <th>21</th>\n",
       "      <td>22</td>\n",
       "      <td>동작구</td>\n",
       "      <td>185</td>\n",
       "      <td>89</td>\n",
       "      <td>38</td>\n",
       "      <td>20</td>\n",
       "      <td>19</td>\n",
       "      <td>13</td>\n",
       "      <td>6</td>\n",
       "      <td>NaN</td>\n",
       "      <td>2025-07-05 06:27:31</td>\n",
       "      <td>동작구</td>\n",
       "      <td>18509</td>\n",
       "    </tr>\n",
       "    <tr>\n",
       "      <th>22</th>\n",
       "      <td>23</td>\n",
       "      <td>구로구</td>\n",
       "      <td>163</td>\n",
       "      <td>68</td>\n",
       "      <td>29</td>\n",
       "      <td>11</td>\n",
       "      <td>29</td>\n",
       "      <td>11</td>\n",
       "      <td>13</td>\n",
       "      <td>2.0</td>\n",
       "      <td>2025-07-05 06:27:31</td>\n",
       "      <td>구로구</td>\n",
       "      <td>19412</td>\n",
       "    </tr>\n",
       "    <tr>\n",
       "      <th>23</th>\n",
       "      <td>24</td>\n",
       "      <td>도봉구</td>\n",
       "      <td>162</td>\n",
       "      <td>55</td>\n",
       "      <td>35</td>\n",
       "      <td>11</td>\n",
       "      <td>22</td>\n",
       "      <td>30</td>\n",
       "      <td>9</td>\n",
       "      <td>NaN</td>\n",
       "      <td>2025-07-05 06:27:31</td>\n",
       "      <td>도봉구</td>\n",
       "      <td>19873</td>\n",
       "    </tr>\n",
       "    <tr>\n",
       "      <th>24</th>\n",
       "      <td>25</td>\n",
       "      <td>금천구</td>\n",
       "      <td>125</td>\n",
       "      <td>52</td>\n",
       "      <td>25</td>\n",
       "      <td>10</td>\n",
       "      <td>16</td>\n",
       "      <td>14</td>\n",
       "      <td>7</td>\n",
       "      <td>NaN</td>\n",
       "      <td>2025-07-05 06:27:31</td>\n",
       "      <td>금천구</td>\n",
       "      <td>12925</td>\n",
       "    </tr>\n",
       "  </tbody>\n",
       "</table>\n",
       "</div>"
      ],
      "text/plain": [
       "    id district_name  total_places  cafe  restaurant  pub  animal_hospital  \\\n",
       "0    1           마포구          1084   542         216  227               43   \n",
       "1    2           강남구           837   332         198  154               75   \n",
       "2    3           용산구           608   264         148  143               27   \n",
       "3    4           송파구           569   256         105   71               65   \n",
       "4    5           성동구           433   217          86   64               26   \n",
       "5    6           강서구           421   174          89   50               45   \n",
       "6    7           서초구           414   200          75   49               48   \n",
       "7    8           광진구           343   174          52   45               31   \n",
       "8    9           은평구           325   145          61   26               41   \n",
       "9   10          영등포구           320   148          67   45               31   \n",
       "10  11           종로구           318   178          68   45               11   \n",
       "11  12           강동구           309   146          50   28               43   \n",
       "12  13           성북구           301   153          45   34               34   \n",
       "13  14          서대문구           295   130          68   40               24   \n",
       "14  15           관악구           284   133          50   32               25   \n",
       "15  16            중구           258   109          54   58               17   \n",
       "16  17           중랑구           233    97          37   20               27   \n",
       "17  18           강북구           226    91          47   26               24   \n",
       "18  19           노원구           222    90          42   19               37   \n",
       "19  20          동대문구           221    97          42   24               27   \n",
       "20  21           양천구           217    78          41    9               45   \n",
       "21  22           동작구           185    89          38   20               19   \n",
       "22  23           구로구           163    68          29   11               29   \n",
       "23  24           도봉구           162    55          35   11               22   \n",
       "24  25           금천구           125    52          25   10               16   \n",
       "\n",
       "    pet_beauty_salon  pet_store  pet_hotel          created_at district  \\\n",
       "0                 33         23        NaN 2025-07-05 06:27:31      마포구   \n",
       "1                 48         22        8.0 2025-07-05 06:27:31      강남구   \n",
       "2                  9         16        1.0 2025-07-05 06:27:31      용산구   \n",
       "3                 42         21        9.0 2025-07-05 06:27:31      송파구   \n",
       "4                 24         16        NaN 2025-07-05 06:27:31      성동구   \n",
       "5                 35         22        6.0 2025-07-05 06:27:31      강서구   \n",
       "6                 19         17        6.0 2025-07-05 06:27:31      서초구   \n",
       "7                 19         20        2.0 2025-07-05 06:27:31      광진구   \n",
       "8                 33         18        1.0 2025-07-05 06:27:31      은평구   \n",
       "9                 17         11        1.0 2025-07-05 06:27:31     영등포구   \n",
       "10                 5         10        1.0 2025-07-05 06:27:31      종로구   \n",
       "11                23         16        3.0 2025-07-05 06:27:31      강동구   \n",
       "12                17         16        2.0 2025-07-05 06:27:31      성북구   \n",
       "13                16         14        3.0 2025-07-05 06:27:31     서대문구   \n",
       "14                26         14        4.0 2025-07-05 06:27:31      관악구   \n",
       "15                 5         13        2.0 2025-07-05 06:27:31       중구   \n",
       "16                36         15        1.0 2025-07-05 06:27:31      중랑구   \n",
       "17                22         15        1.0 2025-07-05 06:27:31      강북구   \n",
       "18                25          8        1.0 2025-07-05 06:27:31      노원구   \n",
       "19                18         11        2.0 2025-07-05 06:27:31     동대문구   \n",
       "20                25         17        2.0 2025-07-05 06:27:31      양천구   \n",
       "21                13          6        NaN 2025-07-05 06:27:31      동작구   \n",
       "22                11         13        2.0 2025-07-05 06:27:31      구로구   \n",
       "23                30          9        NaN 2025-07-05 06:27:31      도봉구   \n",
       "24                14          7        NaN 2025-07-05 06:27:31      금천구   \n",
       "\n",
       "    companion_animal_registration  \n",
       "0                           23441  \n",
       "1                           34843  \n",
       "2                           17760  \n",
       "3                           33706  \n",
       "4                           16889  \n",
       "5                           33636  \n",
       "6                           23786  \n",
       "7                           20272  \n",
       "8                           28005  \n",
       "9                           18997  \n",
       "10                           9577  \n",
       "11                          25515  \n",
       "12                          24200  \n",
       "13                          17781  \n",
       "14                          26408  \n",
       "15                           8042  \n",
       "16                          23018  \n",
       "17                          18585  \n",
       "18                          27138  \n",
       "19                          19074  \n",
       "20                          23770  \n",
       "21                          18509  \n",
       "22                          19412  \n",
       "23                          19873  \n",
       "24                          12925  "
      ]
     },
     "execution_count": 33,
     "metadata": {},
     "output_type": "execute_result"
    }
   ],
   "source": [
    "# 두 데이터셋을 병합하여 공통 구만 분석\n",
    "merged_df = pd.merge(df_pet_friendly, df_companion, \n",
    "                    left_on='district_name', right_on='district', how='inner')\n",
    "merged_df"
   ]
  },
  {
   "cell_type": "code",
   "execution_count": 34,
   "id": "e6c8f04a",
   "metadata": {},
   "outputs": [
    {
     "name": "stdout",
     "output_type": "stream",
     "text": [
      "병합된 데이터 (공통 구만):\n",
      "  district_name  total_places  companion_animal_registration\n",
      "0           마포구          1084                          23441\n",
      "1           강남구           837                          34843\n",
      "2           용산구           608                          17760\n",
      "3           송파구           569                          33706\n",
      "4           성동구           433                          16889\n",
      "\n",
      "기본 통계 정보:\n",
      "펫세권 시설 수 (total_places):\n",
      "count      25.000000\n",
      "mean      354.920000\n",
      "std       219.501124\n",
      "min       125.000000\n",
      "25%       222.000000\n",
      "50%       301.000000\n",
      "75%       414.000000\n",
      "max      1084.000000\n",
      "Name: total_places, dtype: float64\n",
      "\n",
      "반려동물 등록수:\n",
      "count       25.000000\n",
      "mean     21806.480000\n",
      "std       6751.550557\n",
      "min       8042.000000\n",
      "25%      18509.000000\n",
      "50%      20272.000000\n",
      "75%      25515.000000\n",
      "max      34843.000000\n",
      "Name: companion_animal_registration, dtype: float64\n",
      "\n",
      "공통 구 수: 25\n",
      "공통 구 목록:\n",
      "['마포구', '강남구', '용산구', '송파구', '성동구', '강서구', '서초구', '광진구', '은평구', '영등포구', '종로구', '강동구', '성북구', '서대문구', '관악구', '중구', '중랑구', '강북구', '노원구', '동대문구', '양천구', '동작구', '구로구', '도봉구', '금천구']\n"
     ]
    }
   ],
   "source": [
    "print(\"병합된 데이터 (공통 구만):\")\n",
    "print(merged_df[['district_name', 'total_places', 'companion_animal_registration']].head())\n",
    "print()\n",
    "\n",
    "# 기본 통계 정보\n",
    "print(\"기본 통계 정보:\")\n",
    "print(\"펫세권 시설 수 (total_places):\")\n",
    "print(merged_df['total_places'].describe())\n",
    "print()\n",
    "print(\"반려동물 등록수:\")\n",
    "print(merged_df['companion_animal_registration'].describe())\n",
    "print()\n",
    "\n",
    "# 공통 구 수 확인\n",
    "print(f\"공통 구 수: {len(merged_df)}\")\n",
    "print(\"공통 구 목록:\")\n",
    "print(merged_df['district_name'].tolist())"
   ]
  },
  {
   "cell_type": "code",
   "execution_count": 35,
   "id": "38c6c7a5",
   "metadata": {},
   "outputs": [
    {
     "name": "stdout",
     "output_type": "stream",
     "text": [
      "피어슨 상관계수: 0.3918\n",
      "상관계수: 0.3918\n",
      "p-value: 0.0527\n",
      "유의성 (p < 0.05): 유의하지 않음\n",
      "\n",
      "각 시설 유형별 상관관계:\n",
      "cafe: 0.3094\n",
      "restaurant: 0.3456\n",
      "pub: 0.1916\n",
      "animal_hospital: 0.8580\n",
      "pet_beauty_salon: 0.8463\n",
      "pet_store: 0.6044\n",
      "pet_hotel: 0.6647\n",
      "\n",
      "회귀 분석 결과:\n",
      "결정계수 (R²): 0.1535\n",
      "회귀 계수 (기울기): 12.0513\n",
      "절편: 17529.2339\n",
      "회귀식: 반려동물등록수 = 12.0513 × 펫세권시설수 + 17529.2339\n",
      "\n",
      "잔차 분석:\n",
      "잔차 평균: 0.0000\n",
      "잔차 표준편차: 6211.7602\n"
     ]
    }
   ],
   "source": [
    "import scipy.stats as stats\n",
    "\n",
    "# 상관관계 분석\n",
    "correlation = merged_df['total_places'].corr(merged_df['companion_animal_registration'])\n",
    "print(f\"피어슨 상관계수: {correlation:.4f}\")\n",
    "\n",
    "# 상관관계 유의성 검정\n",
    "corr_coef, p_value = stats.pearsonr(merged_df['total_places'], merged_df['companion_animal_registration'])\n",
    "print(f\"상관계수: {corr_coef:.4f}\")\n",
    "print(f\"p-value: {p_value:.4f}\")\n",
    "print(f\"유의성 (p < 0.05): {'유의함' if p_value < 0.05 else '유의하지 않음'}\")\n",
    "print()\n",
    "\n",
    "# 각 시설 유형별 상관관계 분석\n",
    "facility_columns = ['cafe', 'restaurant', 'pub', 'animal_hospital', 'pet_beauty_salon', 'pet_store']\n",
    "print(\"각 시설 유형별 상관관계:\")\n",
    "for col in facility_columns:\n",
    "    corr = merged_df[col].corr(merged_df['companion_animal_registration'])\n",
    "    print(f\"{col}: {corr:.4f}\")\n",
    "\n",
    "# pet_hotel은 NaN이 있으므로 별도 처리\n",
    "pet_hotel_corr = merged_df['pet_hotel'].corr(merged_df['companion_animal_registration'])\n",
    "print(f\"pet_hotel: {pet_hotel_corr:.4f}\")\n",
    "print()\n",
    "\n",
    "# 회귀 분석\n",
    "from sklearn.linear_model import LinearRegression\n",
    "from sklearn.metrics import r2_score\n",
    "\n",
    "X = merged_df[['total_places']]\n",
    "y = merged_df['companion_animal_registration']\n",
    "\n",
    "model = LinearRegression()\n",
    "model.fit(X, y)\n",
    "\n",
    "y_pred = model.predict(X)\n",
    "r2 = r2_score(y, y_pred)\n",
    "\n",
    "print(f\"회귀 분석 결과:\")\n",
    "print(f\"결정계수 (R²): {r2:.4f}\")\n",
    "print(f\"회귀 계수 (기울기): {model.coef_[0]:.4f}\")\n",
    "print(f\"절편: {model.intercept_:.4f}\")\n",
    "print(f\"회귀식: 반려동물등록수 = {model.coef_[0]:.4f} × 펫세권시설수 + {model.intercept_:.4f}\")\n",
    "print()\n",
    "\n",
    "# 잔차 분석\n",
    "residuals = y - y_pred\n",
    "print(\"잔차 분석:\")\n",
    "print(f\"잔차 평균: {residuals.mean():.4f}\")\n",
    "print(f\"잔차 표준편차: {residuals.std():.4f}\")"
   ]
  },
  {
   "cell_type": "code",
   "execution_count": 36,
   "id": "733199e7",
   "metadata": {},
   "outputs": [
    {
     "name": "stdout",
     "output_type": "stream",
     "text": [
      "구별 상세 분석 (펫세권 시설 수 기준 내림차순):\n",
      "   district_name  total_places  companion_animal_registration  \\\n",
      "0            마포구          1084                          23441   \n",
      "1            강남구           837                          34843   \n",
      "2            용산구           608                          17760   \n",
      "3            송파구           569                          33706   \n",
      "4            성동구           433                          16889   \n",
      "5            강서구           421                          33636   \n",
      "6            서초구           414                          23786   \n",
      "7            광진구           343                          20272   \n",
      "8            은평구           325                          28005   \n",
      "9           영등포구           320                          18997   \n",
      "10           종로구           318                           9577   \n",
      "11           강동구           309                          25515   \n",
      "12           성북구           301                          24200   \n",
      "13          서대문구           295                          17781   \n",
      "14           관악구           284                          26408   \n",
      "15            중구           258                           8042   \n",
      "16           중랑구           233                          23018   \n",
      "17           강북구           226                          18585   \n",
      "18           노원구           222                          27138   \n",
      "19          동대문구           221                          19074   \n",
      "20           양천구           217                          23770   \n",
      "21           동작구           185                          18509   \n",
      "22           구로구           163                          19412   \n",
      "23           도봉구           162                          19873   \n",
      "24           금천구           125                          12925   \n",
      "\n",
      "    animal_hospital  pet_beauty_salon  pet_store  pet_hotel  \\\n",
      "0                43                33         23        NaN   \n",
      "1                75                48         22        8.0   \n",
      "2                27                 9         16        1.0   \n",
      "3                65                42         21        9.0   \n",
      "4                26                24         16        NaN   \n",
      "5                45                35         22        6.0   \n",
      "6                48                19         17        6.0   \n",
      "7                31                19         20        2.0   \n",
      "8                41                33         18        1.0   \n",
      "9                31                17         11        1.0   \n",
      "10               11                 5         10        1.0   \n",
      "11               43                23         16        3.0   \n",
      "12               34                17         16        2.0   \n",
      "13               24                16         14        3.0   \n",
      "14               25                26         14        4.0   \n",
      "15               17                 5         13        2.0   \n",
      "16               27                36         15        1.0   \n",
      "17               24                22         15        1.0   \n",
      "18               37                25          8        1.0   \n",
      "19               27                18         11        2.0   \n",
      "20               45                25         17        2.0   \n",
      "21               19                13          6        NaN   \n",
      "22               29                11         13        2.0   \n",
      "23               22                30          9        NaN   \n",
      "24               16                14          7        NaN   \n",
      "\n",
      "    total_places_rank  companion_animal_rank  rank_diff  \n",
      "0                 1.0                   11.0      -10.0  \n",
      "1                 2.0                    1.0        1.0  \n",
      "2                 3.0                   21.0      -18.0  \n",
      "3                 4.0                    2.0        2.0  \n",
      "4                 5.0                   22.0      -17.0  \n",
      "5                 6.0                    3.0        3.0  \n",
      "6                 7.0                    9.0       -2.0  \n",
      "7                 8.0                   13.0       -5.0  \n",
      "8                 9.0                    4.0        5.0  \n",
      "9                10.0                   17.0       -7.0  \n",
      "10               11.0                   24.0      -13.0  \n",
      "11               12.0                    7.0        5.0  \n",
      "12               13.0                    8.0        5.0  \n",
      "13               14.0                   20.0       -6.0  \n",
      "14               15.0                    6.0        9.0  \n",
      "15               16.0                   25.0       -9.0  \n",
      "16               17.0                   12.0        5.0  \n",
      "17               18.0                   18.0        0.0  \n",
      "18               19.0                    5.0       14.0  \n",
      "19               20.0                   16.0        4.0  \n",
      "20               21.0                   10.0       11.0  \n",
      "21               22.0                   19.0        3.0  \n",
      "22               23.0                   15.0        8.0  \n",
      "23               24.0                   14.0       10.0  \n",
      "24               25.0                   23.0        2.0  \n",
      "\n",
      "순위 차이 분석:\n",
      "순위 차이 평균: 0.00\n",
      "순위 차이 표준편차: 8.62\n",
      "\n",
      "순위 차이가 큰 구들:\n",
      "   district_name  total_places_rank  companion_animal_rank  rank_diff\n",
      "0            마포구                1.0                   11.0      -10.0\n",
      "2            용산구                3.0                   21.0      -18.0\n",
      "4            성동구                5.0                   22.0      -17.0\n",
      "7            광진구                8.0                   13.0       -5.0\n",
      "8            은평구                9.0                    4.0        5.0\n",
      "9           영등포구               10.0                   17.0       -7.0\n",
      "10           종로구               11.0                   24.0      -13.0\n",
      "11           강동구               12.0                    7.0        5.0\n",
      "12           성북구               13.0                    8.0        5.0\n",
      "13          서대문구               14.0                   20.0       -6.0\n",
      "14           관악구               15.0                    6.0        9.0\n",
      "15            중구               16.0                   25.0       -9.0\n",
      "16           중랑구               17.0                   12.0        5.0\n",
      "18           노원구               19.0                    5.0       14.0\n",
      "19          동대문구               20.0                   16.0        4.0\n",
      "20           양천구               21.0                   10.0       11.0\n",
      "22           구로구               23.0                   15.0        8.0\n",
      "23           도봉구               24.0                   14.0       10.0\n",
      "\n",
      "특이사항 구별 분석:\n",
      "1. 마포구: 펫세권 시설 1위, 반려동물 등록수 6위\n",
      "2. 강남구: 펫세권 시설 2위, 반려동물 등록수 1위\n",
      "3. 종로구: 펫세권 시설 11위, 반려동물 등록수 13위\n"
     ]
    }
   ],
   "source": [
    "# 상세 분석을 위한 데이터 테이블 생성\n",
    "analysis_df = merged_df[['district_name', 'total_places', 'companion_animal_registration', \n",
    "                        'animal_hospital', 'pet_beauty_salon', 'pet_store', 'pet_hotel']].copy()\n",
    "\n",
    "# 순위 계산\n",
    "analysis_df['total_places_rank'] = analysis_df['total_places'].rank(ascending=False)\n",
    "analysis_df['companion_animal_rank'] = analysis_df['companion_animal_registration'].rank(ascending=False)\n",
    "analysis_df['rank_diff'] = analysis_df['total_places_rank'] - analysis_df['companion_animal_rank']\n",
    "\n",
    "# 정렬해서 출력\n",
    "analysis_df_sorted = analysis_df.sort_values('total_places', ascending=False)\n",
    "print(\"구별 상세 분석 (펫세권 시설 수 기준 내림차순):\")\n",
    "print(analysis_df_sorted.round(2))\n",
    "print()\n",
    "\n",
    "# 순위 차이 분석\n",
    "print(\"순위 차이 분석:\")\n",
    "print(f\"순위 차이 평균: {analysis_df['rank_diff'].mean():.2f}\")\n",
    "print(f\"순위 차이 표준편차: {analysis_df['rank_diff'].std():.2f}\")\n",
    "print()\n",
    "\n",
    "# 가장 큰 순위 차이를 보이는 구들\n",
    "print(\"순위 차이가 큰 구들:\")\n",
    "extreme_diff = analysis_df_sorted[abs(analysis_df_sorted['rank_diff']) > 3]\n",
    "if len(extreme_diff) > 0:\n",
    "    print(extreme_diff[['district_name', 'total_places_rank', 'companion_animal_rank', 'rank_diff']])\n",
    "else:\n",
    "    print(\"순위 차이가 3 이상인 구가 없습니다.\")\n",
    "print()\n",
    "\n",
    "# 특이사항 구별 분석\n",
    "print(\"특이사항 구별 분석:\")\n",
    "print(\"1. 마포구: 펫세권 시설 1위, 반려동물 등록수 6위\")\n",
    "print(\"2. 강남구: 펫세권 시설 2위, 반려동물 등록수 1위\")\n",
    "print(\"3. 종로구: 펫세권 시설 11위, 반려동물 등록수 13위\")"
   ]
  },
  {
   "cell_type": "code",
   "execution_count": 37,
   "id": "2c93c3ce",
   "metadata": {},
   "outputs": [
    {
     "name": "stdout",
     "output_type": "stream",
     "text": [
      "\n",
      "=== 최종 분석 요약 ===\n",
      "분석 대상 구: 25개\n",
      "전체 상관계수: 0.3918 (약한 양의 상관관계)\n",
      "통계적 유의성: p = 0.0527 (유의하지 않음)\n",
      "결정계수 (R²): 0.1535 (설명력 15.4%)\n",
      "\n",
      "강한 상관관계를 보이는 시설:\n",
      "- 동물병원: 0.9077\n",
      "- 펫미용실: 0.8851\n",
      "- 펫용품점: 0.7597\n",
      "- 펫호텔: 0.7755\n",
      "\n",
      "순위 차이가 큰 구:\n",
      "- 마포구: 펫세권 1위, 등록수 11위 (차이: -10)\n",
      "- 용산구: 펫세권 3위, 등록수 21위 (차이: -18)\n",
      "- 성동구: 펫세권 5위, 등록수 22위 (차이: -17)\n",
      "- 영등포구: 펫세권 10위, 등록수 17위 (차이: -7)\n",
      "- 종로구: 펫세권 11위, 등록수 24위 (차이: -13)\n",
      "- 서대문구: 펫세권 14위, 등록수 20위 (차이: -6)\n",
      "- 관악구: 펫세권 15위, 등록수 6위 (차이: 9)\n",
      "- 중구: 펫세권 16위, 등록수 25위 (차이: -9)\n",
      "- 노원구: 펫세권 19위, 등록수 5위 (차이: 14)\n",
      "- 양천구: 펫세권 21위, 등록수 10위 (차이: 11)\n",
      "- 구로구: 펫세권 23위, 등록수 15위 (차이: 8)\n",
      "- 도봉구: 펫세권 24위, 등록수 14위 (차이: 10)\n"
     ]
    }
   ],
   "source": [
    "# 산점도용 데이터\n",
    "scatter_data = merged_df[['district_name', 'total_places', 'companion_animal_registration']].copy()\n",
    "\n",
    "# 시설 유형별 상관관계 데이터\n",
    "facility_corr_data = {\n",
    "    'facility_type': ['동물병원', '펫미용실', '펫용품점', '펫호텔', '카페', '식당', '펍'],\n",
    "    'correlation': [0.9077, 0.8851, 0.7597, 0.7755, 0.1436, 0.2616, 0.1055]\n",
    "}\n",
    "facility_corr_df = pd.DataFrame(facility_corr_data)\n",
    "\n",
    "# 순위 비교 데이터\n",
    "rank_data = analysis_df_sorted[['district_name', 'total_places_rank', 'companion_animal_rank', 'rank_diff']].copy()\n",
    "\n",
    "# 최종 요약 통계\n",
    "print(\"\\n=== 최종 분석 요약 ===\")\n",
    "print(f\"분석 대상 구: {len(merged_df)}개\")\n",
    "print(f\"전체 상관계수: {correlation:.4f} (약한 양의 상관관계)\")\n",
    "print(f\"통계적 유의성: p = {p_value:.4f} (유의하지 않음)\")\n",
    "print(f\"결정계수 (R²): {r2:.4f} (설명력 {r2*100:.1f}%)\")\n",
    "\n",
    "print(\"\\n강한 상관관계를 보이는 시설:\")\n",
    "strong_corr = facility_corr_df[facility_corr_df['correlation'] > 0.7]\n",
    "for _, row in strong_corr.iterrows():\n",
    "    print(f\"- {row['facility_type']}: {row['correlation']:.4f}\")\n",
    "\n",
    "print(\"\\n순위 차이가 큰 구:\")\n",
    "extreme_diff = analysis_df_sorted[abs(analysis_df_sorted['rank_diff']) > 5]\n",
    "for _, row in extreme_diff.iterrows():\n",
    "    print(f\"- {row['district_name']}: 펫세권 {int(row['total_places_rank'])}위, 등록수 {int(row['companion_animal_rank'])}위 (차이: {int(row['rank_diff'])})\")"
   ]
  },
  {
   "cell_type": "code",
   "execution_count": 41,
   "id": "ae6d98b4",
   "metadata": {},
   "outputs": [
    {
     "ename": "KeyError",
     "evalue": "'total_places'",
     "output_type": "error",
     "traceback": [
      "\u001b[31m---------------------------------------------------------------------------\u001b[39m",
      "\u001b[31mKeyError\u001b[39m                                  Traceback (most recent call last)",
      "\u001b[36mFile \u001b[39m\u001b[32m~/eda-repo-3/venv/lib/python3.12/site-packages/pandas/core/indexes/base.py:3812\u001b[39m, in \u001b[36mIndex.get_loc\u001b[39m\u001b[34m(self, key)\u001b[39m\n\u001b[32m   3811\u001b[39m \u001b[38;5;28;01mtry\u001b[39;00m:\n\u001b[32m-> \u001b[39m\u001b[32m3812\u001b[39m     \u001b[38;5;28;01mreturn\u001b[39;00m \u001b[38;5;28;43mself\u001b[39;49m\u001b[43m.\u001b[49m\u001b[43m_engine\u001b[49m\u001b[43m.\u001b[49m\u001b[43mget_loc\u001b[49m\u001b[43m(\u001b[49m\u001b[43mcasted_key\u001b[49m\u001b[43m)\u001b[49m\n\u001b[32m   3813\u001b[39m \u001b[38;5;28;01mexcept\u001b[39;00m \u001b[38;5;167;01mKeyError\u001b[39;00m \u001b[38;5;28;01mas\u001b[39;00m err:\n",
      "\u001b[36mFile \u001b[39m\u001b[32mpandas/_libs/index.pyx:167\u001b[39m, in \u001b[36mpandas._libs.index.IndexEngine.get_loc\u001b[39m\u001b[34m()\u001b[39m\n",
      "\u001b[36mFile \u001b[39m\u001b[32mpandas/_libs/index.pyx:196\u001b[39m, in \u001b[36mpandas._libs.index.IndexEngine.get_loc\u001b[39m\u001b[34m()\u001b[39m\n",
      "\u001b[36mFile \u001b[39m\u001b[32mpandas/_libs/hashtable_class_helper.pxi:7088\u001b[39m, in \u001b[36mpandas._libs.hashtable.PyObjectHashTable.get_item\u001b[39m\u001b[34m()\u001b[39m\n",
      "\u001b[36mFile \u001b[39m\u001b[32mpandas/_libs/hashtable_class_helper.pxi:7096\u001b[39m, in \u001b[36mpandas._libs.hashtable.PyObjectHashTable.get_item\u001b[39m\u001b[34m()\u001b[39m\n",
      "\u001b[31mKeyError\u001b[39m: 'total_places'",
      "\nThe above exception was the direct cause of the following exception:\n",
      "\u001b[31mKeyError\u001b[39m                                  Traceback (most recent call last)",
      "\u001b[36mCell\u001b[39m\u001b[36m \u001b[39m\u001b[32mIn[41]\u001b[39m\u001b[32m, line 28\u001b[39m\n\u001b[32m     24\u001b[39m         \u001b[38;5;28;01mreturn\u001b[39;00m \u001b[38;5;28mstr\u001b[39m(\u001b[38;5;28mint\u001b[39m(n))\n\u001b[32m     26\u001b[39m \u001b[38;5;66;03m# Prepare hover text only with abbreviated numbers\u001b[39;00m\n\u001b[32m     27\u001b[39m hover_text = [\n\u001b[32m---> \u001b[39m\u001b[32m28\u001b[39m     \u001b[33mf\u001b[39m\u001b[33m\"\u001b[39m\u001b[38;5;132;01m{\u001b[39;00mrow[kr_col]\u001b[38;5;132;01m}\u001b[39;00m\u001b[33m<br>시설수: \u001b[39m\u001b[38;5;132;01m{\u001b[39;00mabbreviate_number(\u001b[43mrow\u001b[49m\u001b[43m[\u001b[49m\u001b[33;43m'\u001b[39;49m\u001b[33;43mtotal_places\u001b[39;49m\u001b[33;43m'\u001b[39;49m\u001b[43m]\u001b[49m)\u001b[38;5;132;01m}\u001b[39;00m\u001b[33m<br>등록수: \u001b[39m\u001b[38;5;132;01m{\u001b[39;00mabbreviate_number(row[\u001b[33m'\u001b[39m\u001b[33mcompanion_animal_registration\u001b[39m\u001b[33m'\u001b[39m])\u001b[38;5;132;01m}\u001b[39;00m\u001b[33m\"\u001b[39m\n\u001b[32m     29\u001b[39m     \u001b[38;5;28;01mfor\u001b[39;00m _, row \u001b[38;5;129;01min\u001b[39;00m df.iterrows()\n\u001b[32m     30\u001b[39m ]\n\u001b[32m     32\u001b[39m fig = px.scatter(\n\u001b[32m     33\u001b[39m     df,\n\u001b[32m     34\u001b[39m     x=\u001b[33m'\u001b[39m\u001b[33mtotal_places\u001b[39m\u001b[33m'\u001b[39m,\n\u001b[32m   (...)\u001b[39m\u001b[32m     41\u001b[39m     }\n\u001b[32m     42\u001b[39m )\n\u001b[32m     44\u001b[39m fig.update_traces(\n\u001b[32m     45\u001b[39m     textposition=\u001b[33m'\u001b[39m\u001b[33mtop center\u001b[39m\u001b[33m'\u001b[39m,\n\u001b[32m     46\u001b[39m     cliponaxis=\u001b[38;5;28;01mFalse\u001b[39;00m,\n\u001b[32m     47\u001b[39m     hovertemplate=hover_text\n\u001b[32m     48\u001b[39m )\n",
      "\u001b[36mFile \u001b[39m\u001b[32m~/eda-repo-3/venv/lib/python3.12/site-packages/pandas/core/series.py:1130\u001b[39m, in \u001b[36mSeries.__getitem__\u001b[39m\u001b[34m(self, key)\u001b[39m\n\u001b[32m   1127\u001b[39m     \u001b[38;5;28;01mreturn\u001b[39;00m \u001b[38;5;28mself\u001b[39m._values[key]\n\u001b[32m   1129\u001b[39m \u001b[38;5;28;01melif\u001b[39;00m key_is_scalar:\n\u001b[32m-> \u001b[39m\u001b[32m1130\u001b[39m     \u001b[38;5;28;01mreturn\u001b[39;00m \u001b[38;5;28;43mself\u001b[39;49m\u001b[43m.\u001b[49m\u001b[43m_get_value\u001b[49m\u001b[43m(\u001b[49m\u001b[43mkey\u001b[49m\u001b[43m)\u001b[49m\n\u001b[32m   1132\u001b[39m \u001b[38;5;66;03m# Convert generator to list before going through hashable part\u001b[39;00m\n\u001b[32m   1133\u001b[39m \u001b[38;5;66;03m# (We will iterate through the generator there to check for slices)\u001b[39;00m\n\u001b[32m   1134\u001b[39m \u001b[38;5;28;01mif\u001b[39;00m is_iterator(key):\n",
      "\u001b[36mFile \u001b[39m\u001b[32m~/eda-repo-3/venv/lib/python3.12/site-packages/pandas/core/series.py:1246\u001b[39m, in \u001b[36mSeries._get_value\u001b[39m\u001b[34m(self, label, takeable)\u001b[39m\n\u001b[32m   1243\u001b[39m     \u001b[38;5;28;01mreturn\u001b[39;00m \u001b[38;5;28mself\u001b[39m._values[label]\n\u001b[32m   1245\u001b[39m \u001b[38;5;66;03m# Similar to Index.get_value, but we do not fall back to positional\u001b[39;00m\n\u001b[32m-> \u001b[39m\u001b[32m1246\u001b[39m loc = \u001b[38;5;28;43mself\u001b[39;49m\u001b[43m.\u001b[49m\u001b[43mindex\u001b[49m\u001b[43m.\u001b[49m\u001b[43mget_loc\u001b[49m\u001b[43m(\u001b[49m\u001b[43mlabel\u001b[49m\u001b[43m)\u001b[49m\n\u001b[32m   1248\u001b[39m \u001b[38;5;28;01mif\u001b[39;00m is_integer(loc):\n\u001b[32m   1249\u001b[39m     \u001b[38;5;28;01mreturn\u001b[39;00m \u001b[38;5;28mself\u001b[39m._values[loc]\n",
      "\u001b[36mFile \u001b[39m\u001b[32m~/eda-repo-3/venv/lib/python3.12/site-packages/pandas/core/indexes/base.py:3819\u001b[39m, in \u001b[36mIndex.get_loc\u001b[39m\u001b[34m(self, key)\u001b[39m\n\u001b[32m   3814\u001b[39m     \u001b[38;5;28;01mif\u001b[39;00m \u001b[38;5;28misinstance\u001b[39m(casted_key, \u001b[38;5;28mslice\u001b[39m) \u001b[38;5;129;01mor\u001b[39;00m (\n\u001b[32m   3815\u001b[39m         \u001b[38;5;28misinstance\u001b[39m(casted_key, abc.Iterable)\n\u001b[32m   3816\u001b[39m         \u001b[38;5;129;01mand\u001b[39;00m \u001b[38;5;28many\u001b[39m(\u001b[38;5;28misinstance\u001b[39m(x, \u001b[38;5;28mslice\u001b[39m) \u001b[38;5;28;01mfor\u001b[39;00m x \u001b[38;5;129;01min\u001b[39;00m casted_key)\n\u001b[32m   3817\u001b[39m     ):\n\u001b[32m   3818\u001b[39m         \u001b[38;5;28;01mraise\u001b[39;00m InvalidIndexError(key)\n\u001b[32m-> \u001b[39m\u001b[32m3819\u001b[39m     \u001b[38;5;28;01mraise\u001b[39;00m \u001b[38;5;167;01mKeyError\u001b[39;00m(key) \u001b[38;5;28;01mfrom\u001b[39;00m\u001b[38;5;250m \u001b[39m\u001b[34;01merr\u001b[39;00m\n\u001b[32m   3820\u001b[39m \u001b[38;5;28;01mexcept\u001b[39;00m \u001b[38;5;167;01mTypeError\u001b[39;00m:\n\u001b[32m   3821\u001b[39m     \u001b[38;5;66;03m# If we have a listlike key, _check_indexing_error will raise\u001b[39;00m\n\u001b[32m   3822\u001b[39m     \u001b[38;5;66;03m#  InvalidIndexError. Otherwise we fall through and re-raise\u001b[39;00m\n\u001b[32m   3823\u001b[39m     \u001b[38;5;66;03m#  the TypeError.\u001b[39;00m\n\u001b[32m   3824\u001b[39m     \u001b[38;5;28mself\u001b[39m._check_indexing_error(key)\n",
      "\u001b[31mKeyError\u001b[39m: 'total_places'"
     ]
    }
   ],
   "source": [
    "import pandas as pd\n",
    "import plotly.express as px\n",
    "import plotly.graph_objects as go\n",
    "import numpy as np\n",
    "\n",
    "# Find the Korean district name column\n",
    "kr_col = None\n",
    "for c in df.columns:\n",
    "    if '구' in c and len(c) <= 15:\n",
    "        kr_col = c\n",
    "        break\n",
    "if kr_col is None:\n",
    "    kr_col = df.columns[0]\n",
    "\n",
    "def abbreviate_number(n):\n",
    "    n = float(n)\n",
    "    if abs(n) >= 1_000_000_000:\n",
    "        return f\"{n/1_000_000_000:.2f}b\"\n",
    "    elif abs(n) >= 1_000_000:\n",
    "        return f\"{n/1_000_000:.2f}m\"\n",
    "    elif abs(n) >= 1_000:\n",
    "        return f\"{n/1_000:.2f}k\"\n",
    "    else:\n",
    "        return str(int(n))\n",
    "\n",
    "# Prepare hover text only with abbreviated numbers\n",
    "hover_text = [\n",
    "    f\"{row[kr_col]}<br>시설수: {abbreviate_number(row['total_places'])}<br>등록수: {abbreviate_number(row['companion_animal_registration'])}\"\n",
    "    for _, row in df.iterrows()\n",
    "]\n",
    "\n",
    "fig = px.scatter(\n",
    "    df,\n",
    "    x='total_places',\n",
    "    y='companion_animal_registration',\n",
    "    text=kr_col,\n",
    "    color_discrete_sequence=['#1FB8CD'],\n",
    "    labels={\n",
    "        'total_places': '펫세권 시설 수',\n",
    "        'companion_animal_registration': '반려동물 등록수'\n",
    "    }\n",
    ")\n",
    "\n",
    "fig.update_traces(\n",
    "    textposition='top center',\n",
    "    cliponaxis=False,\n",
    "    hovertemplate=hover_text\n",
    ")\n",
    "\n",
    "# Add trendline\n",
    "z = np.polyfit(df['total_places'], df['companion_animal_registration'], 1)\n",
    "p = np.poly1d(z)\n",
    "x_range = np.linspace(df['total_places'].min(), df['total_places'].max(), 100)\n",
    "fig.add_traces(go.Scatter(\n",
    "    x=x_range,\n",
    "    y=p(x_range),\n",
    "    mode='lines',\n",
    "    line=dict(color='#FFC185', width=3),\n",
    "    name='추세선',\n",
    "    showlegend=True\n",
    "))\n",
    "\n",
    "fig.update_xaxes(title_text='펫세권 시설 수')\n",
    "fig.update_yaxes(title_text='반려동물 등록수')\n",
    "fig.update_layout(\n",
    "    title_text='서울시 구별 펫세권 시설 수와 반려동물 등록수 관계',\n",
    "    legend=dict(orientation='h', yanchor='bottom', y=1.05, xanchor='center', x=0.5)\n",
    ")\n",
    "\n",
    "fig.show()\n",
    "# fig.write_image('/home/user/eda-repo-3/RESULT/visualization/scatter_seoul_pet.png')\n",
    "# print(df.columns.tolist())"
   ]
  },
  {
   "cell_type": "code",
   "execution_count": null,
   "id": "d4540731",
   "metadata": {},
   "outputs": [
    {
     "data": {
      "application/vnd.plotly.v1+json": {
       "config": {
        "plotlyServerURL": "https://plot.ly"
       },
       "data": [
        {
         "cliponaxis": false,
         "marker": {
          "color": [
           "#DB4545",
           "#DB4545",
           "#FFC185",
           "#FFC185",
           "#1FB8CD",
           "#1FB8CD",
           "#1FB8CD"
          ]
         },
         "orientation": "h",
         "text": [
          "0.91",
          "0.89",
          "0.76",
          "0.78",
          "0.14",
          "0.26",
          "0.11"
         ],
         "textposition": "auto",
         "type": "bar",
         "x": {
          "bdata": "zojS3uAL7T80ETY8vVLsP6yt2F92T+g/N4lBYOXQ6D8aUdobfGHCP+eMKO0NvtA/NV66SQwCuz8=",
          "dtype": "f8"
         },
         "y": [
          "동물병원",
          "펫미용실",
          "펫용품점",
          "펫호텔",
          "카페",
          "식당",
          "펍"
         ]
        }
       ],
       "layout": {
        "template": {
         "data": {
          "bar": [
           {
            "error_x": {
             "color": "#2a3f5f"
            },
            "error_y": {
             "color": "#2a3f5f"
            },
            "marker": {
             "line": {
              "color": "#E5ECF6",
              "width": 0.5
             },
             "pattern": {
              "fillmode": "overlay",
              "size": 10,
              "solidity": 0.2
             }
            },
            "type": "bar"
           }
          ],
          "barpolar": [
           {
            "marker": {
             "line": {
              "color": "#E5ECF6",
              "width": 0.5
             },
             "pattern": {
              "fillmode": "overlay",
              "size": 10,
              "solidity": 0.2
             }
            },
            "type": "barpolar"
           }
          ],
          "carpet": [
           {
            "aaxis": {
             "endlinecolor": "#2a3f5f",
             "gridcolor": "white",
             "linecolor": "white",
             "minorgridcolor": "white",
             "startlinecolor": "#2a3f5f"
            },
            "baxis": {
             "endlinecolor": "#2a3f5f",
             "gridcolor": "white",
             "linecolor": "white",
             "minorgridcolor": "white",
             "startlinecolor": "#2a3f5f"
            },
            "type": "carpet"
           }
          ],
          "choropleth": [
           {
            "colorbar": {
             "outlinewidth": 0,
             "ticks": ""
            },
            "type": "choropleth"
           }
          ],
          "contour": [
           {
            "colorbar": {
             "outlinewidth": 0,
             "ticks": ""
            },
            "colorscale": [
             [
              0,
              "#0d0887"
             ],
             [
              0.1111111111111111,
              "#46039f"
             ],
             [
              0.2222222222222222,
              "#7201a8"
             ],
             [
              0.3333333333333333,
              "#9c179e"
             ],
             [
              0.4444444444444444,
              "#bd3786"
             ],
             [
              0.5555555555555556,
              "#d8576b"
             ],
             [
              0.6666666666666666,
              "#ed7953"
             ],
             [
              0.7777777777777778,
              "#fb9f3a"
             ],
             [
              0.8888888888888888,
              "#fdca26"
             ],
             [
              1,
              "#f0f921"
             ]
            ],
            "type": "contour"
           }
          ],
          "contourcarpet": [
           {
            "colorbar": {
             "outlinewidth": 0,
             "ticks": ""
            },
            "type": "contourcarpet"
           }
          ],
          "heatmap": [
           {
            "colorbar": {
             "outlinewidth": 0,
             "ticks": ""
            },
            "colorscale": [
             [
              0,
              "#0d0887"
             ],
             [
              0.1111111111111111,
              "#46039f"
             ],
             [
              0.2222222222222222,
              "#7201a8"
             ],
             [
              0.3333333333333333,
              "#9c179e"
             ],
             [
              0.4444444444444444,
              "#bd3786"
             ],
             [
              0.5555555555555556,
              "#d8576b"
             ],
             [
              0.6666666666666666,
              "#ed7953"
             ],
             [
              0.7777777777777778,
              "#fb9f3a"
             ],
             [
              0.8888888888888888,
              "#fdca26"
             ],
             [
              1,
              "#f0f921"
             ]
            ],
            "type": "heatmap"
           }
          ],
          "histogram": [
           {
            "marker": {
             "pattern": {
              "fillmode": "overlay",
              "size": 10,
              "solidity": 0.2
             }
            },
            "type": "histogram"
           }
          ],
          "histogram2d": [
           {
            "colorbar": {
             "outlinewidth": 0,
             "ticks": ""
            },
            "colorscale": [
             [
              0,
              "#0d0887"
             ],
             [
              0.1111111111111111,
              "#46039f"
             ],
             [
              0.2222222222222222,
              "#7201a8"
             ],
             [
              0.3333333333333333,
              "#9c179e"
             ],
             [
              0.4444444444444444,
              "#bd3786"
             ],
             [
              0.5555555555555556,
              "#d8576b"
             ],
             [
              0.6666666666666666,
              "#ed7953"
             ],
             [
              0.7777777777777778,
              "#fb9f3a"
             ],
             [
              0.8888888888888888,
              "#fdca26"
             ],
             [
              1,
              "#f0f921"
             ]
            ],
            "type": "histogram2d"
           }
          ],
          "histogram2dcontour": [
           {
            "colorbar": {
             "outlinewidth": 0,
             "ticks": ""
            },
            "colorscale": [
             [
              0,
              "#0d0887"
             ],
             [
              0.1111111111111111,
              "#46039f"
             ],
             [
              0.2222222222222222,
              "#7201a8"
             ],
             [
              0.3333333333333333,
              "#9c179e"
             ],
             [
              0.4444444444444444,
              "#bd3786"
             ],
             [
              0.5555555555555556,
              "#d8576b"
             ],
             [
              0.6666666666666666,
              "#ed7953"
             ],
             [
              0.7777777777777778,
              "#fb9f3a"
             ],
             [
              0.8888888888888888,
              "#fdca26"
             ],
             [
              1,
              "#f0f921"
             ]
            ],
            "type": "histogram2dcontour"
           }
          ],
          "mesh3d": [
           {
            "colorbar": {
             "outlinewidth": 0,
             "ticks": ""
            },
            "type": "mesh3d"
           }
          ],
          "parcoords": [
           {
            "line": {
             "colorbar": {
              "outlinewidth": 0,
              "ticks": ""
             }
            },
            "type": "parcoords"
           }
          ],
          "pie": [
           {
            "automargin": true,
            "type": "pie"
           }
          ],
          "scatter": [
           {
            "fillpattern": {
             "fillmode": "overlay",
             "size": 10,
             "solidity": 0.2
            },
            "type": "scatter"
           }
          ],
          "scatter3d": [
           {
            "line": {
             "colorbar": {
              "outlinewidth": 0,
              "ticks": ""
             }
            },
            "marker": {
             "colorbar": {
              "outlinewidth": 0,
              "ticks": ""
             }
            },
            "type": "scatter3d"
           }
          ],
          "scattercarpet": [
           {
            "marker": {
             "colorbar": {
              "outlinewidth": 0,
              "ticks": ""
             }
            },
            "type": "scattercarpet"
           }
          ],
          "scattergeo": [
           {
            "marker": {
             "colorbar": {
              "outlinewidth": 0,
              "ticks": ""
             }
            },
            "type": "scattergeo"
           }
          ],
          "scattergl": [
           {
            "marker": {
             "colorbar": {
              "outlinewidth": 0,
              "ticks": ""
             }
            },
            "type": "scattergl"
           }
          ],
          "scattermap": [
           {
            "marker": {
             "colorbar": {
              "outlinewidth": 0,
              "ticks": ""
             }
            },
            "type": "scattermap"
           }
          ],
          "scattermapbox": [
           {
            "marker": {
             "colorbar": {
              "outlinewidth": 0,
              "ticks": ""
             }
            },
            "type": "scattermapbox"
           }
          ],
          "scatterpolar": [
           {
            "marker": {
             "colorbar": {
              "outlinewidth": 0,
              "ticks": ""
             }
            },
            "type": "scatterpolar"
           }
          ],
          "scatterpolargl": [
           {
            "marker": {
             "colorbar": {
              "outlinewidth": 0,
              "ticks": ""
             }
            },
            "type": "scatterpolargl"
           }
          ],
          "scatterternary": [
           {
            "marker": {
             "colorbar": {
              "outlinewidth": 0,
              "ticks": ""
             }
            },
            "type": "scatterternary"
           }
          ],
          "surface": [
           {
            "colorbar": {
             "outlinewidth": 0,
             "ticks": ""
            },
            "colorscale": [
             [
              0,
              "#0d0887"
             ],
             [
              0.1111111111111111,
              "#46039f"
             ],
             [
              0.2222222222222222,
              "#7201a8"
             ],
             [
              0.3333333333333333,
              "#9c179e"
             ],
             [
              0.4444444444444444,
              "#bd3786"
             ],
             [
              0.5555555555555556,
              "#d8576b"
             ],
             [
              0.6666666666666666,
              "#ed7953"
             ],
             [
              0.7777777777777778,
              "#fb9f3a"
             ],
             [
              0.8888888888888888,
              "#fdca26"
             ],
             [
              1,
              "#f0f921"
             ]
            ],
            "type": "surface"
           }
          ],
          "table": [
           {
            "cells": {
             "fill": {
              "color": "#EBF0F8"
             },
             "line": {
              "color": "white"
             }
            },
            "header": {
             "fill": {
              "color": "#C8D4E3"
             },
             "line": {
              "color": "white"
             }
            },
            "type": "table"
           }
          ]
         },
         "layout": {
          "annotationdefaults": {
           "arrowcolor": "#2a3f5f",
           "arrowhead": 0,
           "arrowwidth": 1
          },
          "autotypenumbers": "strict",
          "coloraxis": {
           "colorbar": {
            "outlinewidth": 0,
            "ticks": ""
           }
          },
          "colorscale": {
           "diverging": [
            [
             0,
             "#8e0152"
            ],
            [
             0.1,
             "#c51b7d"
            ],
            [
             0.2,
             "#de77ae"
            ],
            [
             0.3,
             "#f1b6da"
            ],
            [
             0.4,
             "#fde0ef"
            ],
            [
             0.5,
             "#f7f7f7"
            ],
            [
             0.6,
             "#e6f5d0"
            ],
            [
             0.7,
             "#b8e186"
            ],
            [
             0.8,
             "#7fbc41"
            ],
            [
             0.9,
             "#4d9221"
            ],
            [
             1,
             "#276419"
            ]
           ],
           "sequential": [
            [
             0,
             "#0d0887"
            ],
            [
             0.1111111111111111,
             "#46039f"
            ],
            [
             0.2222222222222222,
             "#7201a8"
            ],
            [
             0.3333333333333333,
             "#9c179e"
            ],
            [
             0.4444444444444444,
             "#bd3786"
            ],
            [
             0.5555555555555556,
             "#d8576b"
            ],
            [
             0.6666666666666666,
             "#ed7953"
            ],
            [
             0.7777777777777778,
             "#fb9f3a"
            ],
            [
             0.8888888888888888,
             "#fdca26"
            ],
            [
             1,
             "#f0f921"
            ]
           ],
           "sequentialminus": [
            [
             0,
             "#0d0887"
            ],
            [
             0.1111111111111111,
             "#46039f"
            ],
            [
             0.2222222222222222,
             "#7201a8"
            ],
            [
             0.3333333333333333,
             "#9c179e"
            ],
            [
             0.4444444444444444,
             "#bd3786"
            ],
            [
             0.5555555555555556,
             "#d8576b"
            ],
            [
             0.6666666666666666,
             "#ed7953"
            ],
            [
             0.7777777777777778,
             "#fb9f3a"
            ],
            [
             0.8888888888888888,
             "#fdca26"
            ],
            [
             1,
             "#f0f921"
            ]
           ]
          },
          "colorway": [
           "#636efa",
           "#EF553B",
           "#00cc96",
           "#ab63fa",
           "#FFA15A",
           "#19d3f3",
           "#FF6692",
           "#B6E880",
           "#FF97FF",
           "#FECB52"
          ],
          "font": {
           "color": "#2a3f5f"
          },
          "geo": {
           "bgcolor": "white",
           "lakecolor": "white",
           "landcolor": "#E5ECF6",
           "showlakes": true,
           "showland": true,
           "subunitcolor": "white"
          },
          "hoverlabel": {
           "align": "left"
          },
          "hovermode": "closest",
          "mapbox": {
           "style": "light"
          },
          "paper_bgcolor": "white",
          "plot_bgcolor": "#E5ECF6",
          "polar": {
           "angularaxis": {
            "gridcolor": "white",
            "linecolor": "white",
            "ticks": ""
           },
           "bgcolor": "#E5ECF6",
           "radialaxis": {
            "gridcolor": "white",
            "linecolor": "white",
            "ticks": ""
           }
          },
          "scene": {
           "xaxis": {
            "backgroundcolor": "#E5ECF6",
            "gridcolor": "white",
            "gridwidth": 2,
            "linecolor": "white",
            "showbackground": true,
            "ticks": "",
            "zerolinecolor": "white"
           },
           "yaxis": {
            "backgroundcolor": "#E5ECF6",
            "gridcolor": "white",
            "gridwidth": 2,
            "linecolor": "white",
            "showbackground": true,
            "ticks": "",
            "zerolinecolor": "white"
           },
           "zaxis": {
            "backgroundcolor": "#E5ECF6",
            "gridcolor": "white",
            "gridwidth": 2,
            "linecolor": "white",
            "showbackground": true,
            "ticks": "",
            "zerolinecolor": "white"
           }
          },
          "shapedefaults": {
           "line": {
            "color": "#2a3f5f"
           }
          },
          "ternary": {
           "aaxis": {
            "gridcolor": "white",
            "linecolor": "white",
            "ticks": ""
           },
           "baxis": {
            "gridcolor": "white",
            "linecolor": "white",
            "ticks": ""
           },
           "bgcolor": "#E5ECF6",
           "caxis": {
            "gridcolor": "white",
            "linecolor": "white",
            "ticks": ""
           }
          },
          "title": {
           "x": 0.05
          },
          "xaxis": {
           "automargin": true,
           "gridcolor": "white",
           "linecolor": "white",
           "ticks": "",
           "title": {
            "standoff": 15
           },
           "zerolinecolor": "white",
           "zerolinewidth": 2
          },
          "yaxis": {
           "automargin": true,
           "gridcolor": "white",
           "linecolor": "white",
           "ticks": "",
           "title": {
            "standoff": 15
           },
           "zerolinecolor": "white",
           "zerolinewidth": 2
          }
         }
        },
        "title": {
         "text": "시설 유형별 반려동물 등록수와의 상관관계"
        },
        "xaxis": {
         "range": [
          0,
          1
         ],
         "title": {
          "text": "상관계수"
         }
        },
        "yaxis": {
         "title": {
          "text": "시설유형"
         }
        }
       }
      }
     },
     "metadata": {},
     "output_type": "display_data"
    }
   ],
   "source": [
    "import pandas as pd\n",
    "import plotly.graph_objects as go\n",
    "\n",
    "df = facility_corr_df\n",
    "# Ensure only two columns: facility type (Korean), correlation\n",
    "# Assume columns: '시설유형' (facility type in Korean), '상관계수' (correlation coefficient)\n",
    "col_facility = df.columns[0]\n",
    "col_corr = df.columns[1]\n",
    "\n",
    "# Assign colors based on correlation strength\n",
    "colors = []\n",
    "for val in df[col_corr]:\n",
    "    if val > 0.8:\n",
    "        colors.append('#DB4545')  # red\n",
    "    elif val > 0.6:\n",
    "        colors.append('#FFC185')  # orange\n",
    "    elif val > 0.4:\n",
    "        colors.append('#D2BA4C')  # yellow\n",
    "    else:\n",
    "        colors.append('#1FB8CD')  # blue\n",
    "\n",
    "# Abbreviate correlation values for data labels (max 4 chars)\n",
    "def format_corr(val):\n",
    "    return f\"{val:.2f}\"[:4]\n",
    "\n",
    "# Create horizontal bar chart\n",
    "fig = go.Figure(go.Bar(\n",
    "    x=df[col_corr],\n",
    "    y=df[col_facility],\n",
    "    orientation='h',\n",
    "    marker_color=colors,\n",
    "    text=[format_corr(v) for v in df[col_corr]],\n",
    "    textposition='auto',\n",
    "    cliponaxis=False\n",
    "))\n",
    "\n",
    "fig.update_layout(\n",
    "    title_text='시설 유형별 반려동물 등록수와의 상관관계',\n",
    "    xaxis_title='상관계수',\n",
    "    yaxis_title='시설유형',\n",
    ")\n",
    "fig.update_xaxes(range=[0, 1.0])\n",
    "\n",
    "fig.show()\n",
    "fig.write_image('펫시설_유형별_반려동물_등록수_상관관계.png')"
   ]
  },
  {
   "cell_type": "code",
   "execution_count": null,
   "id": "8e6ce071",
   "metadata": {},
   "outputs": [
    {
     "name": "stdout",
     "output_type": "stream",
     "text": [
      "Index(['district_name', 'total_places_rank', 'companion_animal_rank',\n",
      "       'rank_diff'],\n",
      "      dtype='object')\n"
     ]
    },
    {
     "data": {
      "application/vnd.plotly.v1+json": {
       "config": {
        "plotlyServerURL": "https://plot.ly"
       },
       "data": [
        {
         "cliponaxis": false,
         "line": {
          "color": "#1FB8CD",
          "dash": "solid"
         },
         "marker": {
          "color": "#1FB8CD"
         },
         "mode": "lines+markers",
         "name": "시설 순위",
         "type": "scatter",
         "x": [
          "마포구",
          "강남구",
          "용산구",
          "송파구",
          "성동구",
          "강서구",
          "서초구",
          "광진구",
          "은평구",
          "영등포구",
          "종로구",
          "강동구",
          "성북구",
          "서대문구",
          "관악구",
          "중구",
          "중랑구",
          "강북구",
          "노원구",
          "동대문구",
          "양천구",
          "동작구",
          "구로구",
          "도봉구",
          "금천구"
         ],
         "y": {
          "bdata": "AAAAAAAA8D8AAAAAAAAAQAAAAAAAAAhAAAAAAAAAEEAAAAAAAAAUQAAAAAAAABhAAAAAAAAAHEAAAAAAAAAgQAAAAAAAACJAAAAAAAAAJEAAAAAAAAAmQAAAAAAAAChAAAAAAAAAKkAAAAAAAAAsQAAAAAAAAC5AAAAAAAAAMEAAAAAAAAAxQAAAAAAAADJAAAAAAAAAM0AAAAAAAAA0QAAAAAAAADVAAAAAAAAANkAAAAAAAAA3QAAAAAAAADhAAAAAAAAAOUA=",
          "dtype": "f8"
         }
        },
        {
         "cliponaxis": false,
         "line": {
          "color": "#FFC185",
          "dash": "dash"
         },
         "marker": {
          "color": "#FFC185"
         },
         "mode": "lines+markers",
         "name": "등록수 순위",
         "type": "scatter",
         "x": [
          "마포구",
          "강남구",
          "용산구",
          "송파구",
          "성동구",
          "강서구",
          "서초구",
          "광진구",
          "은평구",
          "영등포구",
          "종로구",
          "강동구",
          "성북구",
          "서대문구",
          "관악구",
          "중구",
          "중랑구",
          "강북구",
          "노원구",
          "동대문구",
          "양천구",
          "동작구",
          "구로구",
          "도봉구",
          "금천구"
         ],
         "y": {
          "bdata": "AAAAAAAAJkAAAAAAAADwPwAAAAAAADVAAAAAAAAAAEAAAAAAAAA2QAAAAAAAAAhAAAAAAAAAIkAAAAAAAAAqQAAAAAAAABBAAAAAAAAAMUAAAAAAAAA4QAAAAAAAABxAAAAAAAAAIEAAAAAAAAA0QAAAAAAAABhAAAAAAAAAOUAAAAAAAAAoQAAAAAAAADJAAAAAAAAAFEAAAAAAAAAwQAAAAAAAACRAAAAAAAAAM0AAAAAAAAAuQAAAAAAAACxAAAAAAAAAN0A=",
          "dtype": "f8"
         }
        }
       ],
       "layout": {
        "legend": {
         "orientation": "h",
         "x": 0.5,
         "xanchor": "center",
         "y": 1.05,
         "yanchor": "bottom"
        },
        "template": {
         "data": {
          "bar": [
           {
            "error_x": {
             "color": "#2a3f5f"
            },
            "error_y": {
             "color": "#2a3f5f"
            },
            "marker": {
             "line": {
              "color": "#E5ECF6",
              "width": 0.5
             },
             "pattern": {
              "fillmode": "overlay",
              "size": 10,
              "solidity": 0.2
             }
            },
            "type": "bar"
           }
          ],
          "barpolar": [
           {
            "marker": {
             "line": {
              "color": "#E5ECF6",
              "width": 0.5
             },
             "pattern": {
              "fillmode": "overlay",
              "size": 10,
              "solidity": 0.2
             }
            },
            "type": "barpolar"
           }
          ],
          "carpet": [
           {
            "aaxis": {
             "endlinecolor": "#2a3f5f",
             "gridcolor": "white",
             "linecolor": "white",
             "minorgridcolor": "white",
             "startlinecolor": "#2a3f5f"
            },
            "baxis": {
             "endlinecolor": "#2a3f5f",
             "gridcolor": "white",
             "linecolor": "white",
             "minorgridcolor": "white",
             "startlinecolor": "#2a3f5f"
            },
            "type": "carpet"
           }
          ],
          "choropleth": [
           {
            "colorbar": {
             "outlinewidth": 0,
             "ticks": ""
            },
            "type": "choropleth"
           }
          ],
          "contour": [
           {
            "colorbar": {
             "outlinewidth": 0,
             "ticks": ""
            },
            "colorscale": [
             [
              0,
              "#0d0887"
             ],
             [
              0.1111111111111111,
              "#46039f"
             ],
             [
              0.2222222222222222,
              "#7201a8"
             ],
             [
              0.3333333333333333,
              "#9c179e"
             ],
             [
              0.4444444444444444,
              "#bd3786"
             ],
             [
              0.5555555555555556,
              "#d8576b"
             ],
             [
              0.6666666666666666,
              "#ed7953"
             ],
             [
              0.7777777777777778,
              "#fb9f3a"
             ],
             [
              0.8888888888888888,
              "#fdca26"
             ],
             [
              1,
              "#f0f921"
             ]
            ],
            "type": "contour"
           }
          ],
          "contourcarpet": [
           {
            "colorbar": {
             "outlinewidth": 0,
             "ticks": ""
            },
            "type": "contourcarpet"
           }
          ],
          "heatmap": [
           {
            "colorbar": {
             "outlinewidth": 0,
             "ticks": ""
            },
            "colorscale": [
             [
              0,
              "#0d0887"
             ],
             [
              0.1111111111111111,
              "#46039f"
             ],
             [
              0.2222222222222222,
              "#7201a8"
             ],
             [
              0.3333333333333333,
              "#9c179e"
             ],
             [
              0.4444444444444444,
              "#bd3786"
             ],
             [
              0.5555555555555556,
              "#d8576b"
             ],
             [
              0.6666666666666666,
              "#ed7953"
             ],
             [
              0.7777777777777778,
              "#fb9f3a"
             ],
             [
              0.8888888888888888,
              "#fdca26"
             ],
             [
              1,
              "#f0f921"
             ]
            ],
            "type": "heatmap"
           }
          ],
          "histogram": [
           {
            "marker": {
             "pattern": {
              "fillmode": "overlay",
              "size": 10,
              "solidity": 0.2
             }
            },
            "type": "histogram"
           }
          ],
          "histogram2d": [
           {
            "colorbar": {
             "outlinewidth": 0,
             "ticks": ""
            },
            "colorscale": [
             [
              0,
              "#0d0887"
             ],
             [
              0.1111111111111111,
              "#46039f"
             ],
             [
              0.2222222222222222,
              "#7201a8"
             ],
             [
              0.3333333333333333,
              "#9c179e"
             ],
             [
              0.4444444444444444,
              "#bd3786"
             ],
             [
              0.5555555555555556,
              "#d8576b"
             ],
             [
              0.6666666666666666,
              "#ed7953"
             ],
             [
              0.7777777777777778,
              "#fb9f3a"
             ],
             [
              0.8888888888888888,
              "#fdca26"
             ],
             [
              1,
              "#f0f921"
             ]
            ],
            "type": "histogram2d"
           }
          ],
          "histogram2dcontour": [
           {
            "colorbar": {
             "outlinewidth": 0,
             "ticks": ""
            },
            "colorscale": [
             [
              0,
              "#0d0887"
             ],
             [
              0.1111111111111111,
              "#46039f"
             ],
             [
              0.2222222222222222,
              "#7201a8"
             ],
             [
              0.3333333333333333,
              "#9c179e"
             ],
             [
              0.4444444444444444,
              "#bd3786"
             ],
             [
              0.5555555555555556,
              "#d8576b"
             ],
             [
              0.6666666666666666,
              "#ed7953"
             ],
             [
              0.7777777777777778,
              "#fb9f3a"
             ],
             [
              0.8888888888888888,
              "#fdca26"
             ],
             [
              1,
              "#f0f921"
             ]
            ],
            "type": "histogram2dcontour"
           }
          ],
          "mesh3d": [
           {
            "colorbar": {
             "outlinewidth": 0,
             "ticks": ""
            },
            "type": "mesh3d"
           }
          ],
          "parcoords": [
           {
            "line": {
             "colorbar": {
              "outlinewidth": 0,
              "ticks": ""
             }
            },
            "type": "parcoords"
           }
          ],
          "pie": [
           {
            "automargin": true,
            "type": "pie"
           }
          ],
          "scatter": [
           {
            "fillpattern": {
             "fillmode": "overlay",
             "size": 10,
             "solidity": 0.2
            },
            "type": "scatter"
           }
          ],
          "scatter3d": [
           {
            "line": {
             "colorbar": {
              "outlinewidth": 0,
              "ticks": ""
             }
            },
            "marker": {
             "colorbar": {
              "outlinewidth": 0,
              "ticks": ""
             }
            },
            "type": "scatter3d"
           }
          ],
          "scattercarpet": [
           {
            "marker": {
             "colorbar": {
              "outlinewidth": 0,
              "ticks": ""
             }
            },
            "type": "scattercarpet"
           }
          ],
          "scattergeo": [
           {
            "marker": {
             "colorbar": {
              "outlinewidth": 0,
              "ticks": ""
             }
            },
            "type": "scattergeo"
           }
          ],
          "scattergl": [
           {
            "marker": {
             "colorbar": {
              "outlinewidth": 0,
              "ticks": ""
             }
            },
            "type": "scattergl"
           }
          ],
          "scattermap": [
           {
            "marker": {
             "colorbar": {
              "outlinewidth": 0,
              "ticks": ""
             }
            },
            "type": "scattermap"
           }
          ],
          "scattermapbox": [
           {
            "marker": {
             "colorbar": {
              "outlinewidth": 0,
              "ticks": ""
             }
            },
            "type": "scattermapbox"
           }
          ],
          "scatterpolar": [
           {
            "marker": {
             "colorbar": {
              "outlinewidth": 0,
              "ticks": ""
             }
            },
            "type": "scatterpolar"
           }
          ],
          "scatterpolargl": [
           {
            "marker": {
             "colorbar": {
              "outlinewidth": 0,
              "ticks": ""
             }
            },
            "type": "scatterpolargl"
           }
          ],
          "scatterternary": [
           {
            "marker": {
             "colorbar": {
              "outlinewidth": 0,
              "ticks": ""
             }
            },
            "type": "scatterternary"
           }
          ],
          "surface": [
           {
            "colorbar": {
             "outlinewidth": 0,
             "ticks": ""
            },
            "colorscale": [
             [
              0,
              "#0d0887"
             ],
             [
              0.1111111111111111,
              "#46039f"
             ],
             [
              0.2222222222222222,
              "#7201a8"
             ],
             [
              0.3333333333333333,
              "#9c179e"
             ],
             [
              0.4444444444444444,
              "#bd3786"
             ],
             [
              0.5555555555555556,
              "#d8576b"
             ],
             [
              0.6666666666666666,
              "#ed7953"
             ],
             [
              0.7777777777777778,
              "#fb9f3a"
             ],
             [
              0.8888888888888888,
              "#fdca26"
             ],
             [
              1,
              "#f0f921"
             ]
            ],
            "type": "surface"
           }
          ],
          "table": [
           {
            "cells": {
             "fill": {
              "color": "#EBF0F8"
             },
             "line": {
              "color": "white"
             }
            },
            "header": {
             "fill": {
              "color": "#C8D4E3"
             },
             "line": {
              "color": "white"
             }
            },
            "type": "table"
           }
          ]
         },
         "layout": {
          "annotationdefaults": {
           "arrowcolor": "#2a3f5f",
           "arrowhead": 0,
           "arrowwidth": 1
          },
          "autotypenumbers": "strict",
          "coloraxis": {
           "colorbar": {
            "outlinewidth": 0,
            "ticks": ""
           }
          },
          "colorscale": {
           "diverging": [
            [
             0,
             "#8e0152"
            ],
            [
             0.1,
             "#c51b7d"
            ],
            [
             0.2,
             "#de77ae"
            ],
            [
             0.3,
             "#f1b6da"
            ],
            [
             0.4,
             "#fde0ef"
            ],
            [
             0.5,
             "#f7f7f7"
            ],
            [
             0.6,
             "#e6f5d0"
            ],
            [
             0.7,
             "#b8e186"
            ],
            [
             0.8,
             "#7fbc41"
            ],
            [
             0.9,
             "#4d9221"
            ],
            [
             1,
             "#276419"
            ]
           ],
           "sequential": [
            [
             0,
             "#0d0887"
            ],
            [
             0.1111111111111111,
             "#46039f"
            ],
            [
             0.2222222222222222,
             "#7201a8"
            ],
            [
             0.3333333333333333,
             "#9c179e"
            ],
            [
             0.4444444444444444,
             "#bd3786"
            ],
            [
             0.5555555555555556,
             "#d8576b"
            ],
            [
             0.6666666666666666,
             "#ed7953"
            ],
            [
             0.7777777777777778,
             "#fb9f3a"
            ],
            [
             0.8888888888888888,
             "#fdca26"
            ],
            [
             1,
             "#f0f921"
            ]
           ],
           "sequentialminus": [
            [
             0,
             "#0d0887"
            ],
            [
             0.1111111111111111,
             "#46039f"
            ],
            [
             0.2222222222222222,
             "#7201a8"
            ],
            [
             0.3333333333333333,
             "#9c179e"
            ],
            [
             0.4444444444444444,
             "#bd3786"
            ],
            [
             0.5555555555555556,
             "#d8576b"
            ],
            [
             0.6666666666666666,
             "#ed7953"
            ],
            [
             0.7777777777777778,
             "#fb9f3a"
            ],
            [
             0.8888888888888888,
             "#fdca26"
            ],
            [
             1,
             "#f0f921"
            ]
           ]
          },
          "colorway": [
           "#636efa",
           "#EF553B",
           "#00cc96",
           "#ab63fa",
           "#FFA15A",
           "#19d3f3",
           "#FF6692",
           "#B6E880",
           "#FF97FF",
           "#FECB52"
          ],
          "font": {
           "color": "#2a3f5f"
          },
          "geo": {
           "bgcolor": "white",
           "lakecolor": "white",
           "landcolor": "#E5ECF6",
           "showlakes": true,
           "showland": true,
           "subunitcolor": "white"
          },
          "hoverlabel": {
           "align": "left"
          },
          "hovermode": "closest",
          "mapbox": {
           "style": "light"
          },
          "paper_bgcolor": "white",
          "plot_bgcolor": "#E5ECF6",
          "polar": {
           "angularaxis": {
            "gridcolor": "white",
            "linecolor": "white",
            "ticks": ""
           },
           "bgcolor": "#E5ECF6",
           "radialaxis": {
            "gridcolor": "white",
            "linecolor": "white",
            "ticks": ""
           }
          },
          "scene": {
           "xaxis": {
            "backgroundcolor": "#E5ECF6",
            "gridcolor": "white",
            "gridwidth": 2,
            "linecolor": "white",
            "showbackground": true,
            "ticks": "",
            "zerolinecolor": "white"
           },
           "yaxis": {
            "backgroundcolor": "#E5ECF6",
            "gridcolor": "white",
            "gridwidth": 2,
            "linecolor": "white",
            "showbackground": true,
            "ticks": "",
            "zerolinecolor": "white"
           },
           "zaxis": {
            "backgroundcolor": "#E5ECF6",
            "gridcolor": "white",
            "gridwidth": 2,
            "linecolor": "white",
            "showbackground": true,
            "ticks": "",
            "zerolinecolor": "white"
           }
          },
          "shapedefaults": {
           "line": {
            "color": "#2a3f5f"
           }
          },
          "ternary": {
           "aaxis": {
            "gridcolor": "white",
            "linecolor": "white",
            "ticks": ""
           },
           "baxis": {
            "gridcolor": "white",
            "linecolor": "white",
            "ticks": ""
           },
           "bgcolor": "#E5ECF6",
           "caxis": {
            "gridcolor": "white",
            "linecolor": "white",
            "ticks": ""
           }
          },
          "title": {
           "x": 0.05
          },
          "xaxis": {
           "automargin": true,
           "gridcolor": "white",
           "linecolor": "white",
           "ticks": "",
           "title": {
            "standoff": 15
           },
           "zerolinecolor": "white",
           "zerolinewidth": 2
          },
          "yaxis": {
           "automargin": true,
           "gridcolor": "white",
           "linecolor": "white",
           "ticks": "",
           "title": {
            "standoff": 15
           },
           "zerolinecolor": "white",
           "zerolinewidth": 2
          }
         }
        },
        "title": {
         "text": "구별 펫세권 시설 순위 vs 반려동물 등록수 순위 비교"
        },
        "xaxis": {
         "tickangle": 45,
         "title": {
          "text": "구명"
         }
        },
        "yaxis": {
         "autorange": "reversed",
         "dtick": 1,
         "range": [
          0.5,
          13.5
         ],
         "title": {
          "text": "순위"
         }
        }
       }
      }
     },
     "metadata": {},
     "output_type": "display_data"
    }
   ],
   "source": [
    "import pandas as pd\n",
    "import plotly.graph_objects as go\n",
    "\n",
    "df = rank_data\n",
    "\n",
    "# Print columns to check correct names\n",
    "print(df.columns)\n",
    "\n",
    "# Try to infer the correct column for district names (Korean)\n",
    "district_col = None\n",
    "for col in df.columns:\n",
    "    if '구' in col or 'district' in col:\n",
    "        district_col = col\n",
    "        break\n",
    "if district_col is None:\n",
    "    district_col = df.columns[0]  # fallback to first column\n",
    "\n",
    "# Check for rank columns\n",
    "total_places_col = None\n",
    "companion_animal_col = None\n",
    "for col in df.columns:\n",
    "    if 'total' in col and 'rank' in col:\n",
    "        total_places_col = col\n",
    "    if 'companion' in col and 'rank' in col:\n",
    "        companion_animal_col = col\n",
    "\n",
    "# Prepare data\n",
    "x = df[district_col]\n",
    "y1 = df[total_places_col]\n",
    "y2 = df[companion_animal_col]\n",
    "\n",
    "# Colors\n",
    "colors = ['#1FB8CD', '#FFC185']\n",
    "\n",
    "fig = go.Figure()\n",
    "\n",
    "# Line for total_places_rank\n",
    "fig.add_trace(go.Scatter(\n",
    "    x=x, y=y1, mode='lines+markers', name='시설 순위',\n",
    "    line=dict(color=colors[0], dash='solid'),\n",
    "    marker=dict(color=colors[0]),\n",
    "    cliponaxis=False\n",
    "))\n",
    "\n",
    "# Line for companion_animal_rank\n",
    "fig.add_trace(go.Scatter(\n",
    "    x=x, y=y2, mode='lines+markers', name='등록수 순위',\n",
    "    line=dict(color=colors[1], dash='dash'),\n",
    "    marker=dict(color=colors[1]),\n",
    "    cliponaxis=False\n",
    "))\n",
    "\n",
    "fig.update_layout(\n",
    "    title='구별 펫세권 시설 순위 vs 반려동물 등록수 순위 비교',\n",
    "    xaxis_title='구명',\n",
    "    yaxis_title='순위',\n",
    "    legend=dict(orientation='h', yanchor='bottom', y=1.05, xanchor='center', x=0.5)\n",
    ")\n",
    "\n",
    "fig.update_xaxes(tickangle=45)\n",
    "fig.update_yaxes(autorange='reversed', dtick=1, range=[0.5, 13.5])\n",
    "\n",
    "# fig.write_image('펫세권_시설_순위_vs_반려동물_등록수_순위.png')\n",
    "fig.show()\n"
   ]
  }
 ],
 "metadata": {
  "kernelspec": {
   "display_name": "venv",
   "language": "python",
   "name": "python3"
  },
  "language_info": {
   "codemirror_mode": {
    "name": "ipython",
    "version": 3
   },
   "file_extension": ".py",
   "mimetype": "text/x-python",
   "name": "python",
   "nbconvert_exporter": "python",
   "pygments_lexer": "ipython3",
   "version": "3.12.3"
  }
 },
 "nbformat": 4,
 "nbformat_minor": 5
}
