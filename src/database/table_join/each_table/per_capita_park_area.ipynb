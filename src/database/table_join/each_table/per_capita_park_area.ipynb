{
 "cells": [
  {
   "cell_type": "code",
   "execution_count": 5,
   "id": "98a4c3e1",
   "metadata": {},
   "outputs": [],
   "source": [
    "import pandas as pd\n",
    "import matplotlib.pyplot as plt\n",
    "import koreanize_matplotlib\n",
    "from sqlalchemy import create_engine\n",
    "from shapely.geometry import shape\n",
    "from io import BytesIO\n",
    "import base64\n",
    "import seaborn as sns\n",
    "\n",
    "from dotenv import load_dotenv\n",
    "import os\n",
    "import json\n",
    "\n",
    "\n",
    "# .env 파일을 찾아 환경 변수로 로드\n",
    "load_dotenv(\"/home/jiming/dev_ws/eda-repo-3/env\")\n",
    "\n",
    "# 환경 변수 가져오기\n",
    "host = os.getenv(\"DB_HOST\")\n",
    "user = os.getenv(\"DB_USER\")\n",
    "password = os.getenv(\"DB_PASSWORD\")\n",
    "database = os.getenv(\"DB_NAME\")\n",
    "\n",
    "# ▶️ MySQL 연결\n",
    "engine = create_engine(f\"mysql+pymysql://{user}:{password}@{host}:3306/{database}\")"
   ]
  },
  {
   "cell_type": "code",
   "execution_count": 7,
   "id": "d11c2a54",
   "metadata": {},
   "outputs": [
    {
     "name": "stdout",
     "output_type": "stream",
     "text": [
      "     자치구  1인당 공원 면적  1인당 도시공원 면적  1인당 도보생활권공원 면적\n",
      "0    강남구      14.16        11.82            6.73\n",
      "1    강동구       7.36         6.19            4.59\n",
      "2    강북구      49.73         8.16            7.27\n",
      "3    강서구       7.95         6.04            6.21\n",
      "4    관악구      25.08        24.95            3.95\n",
      "5    광진구       9.85         8.53            3.85\n",
      "6    구로구       8.93         8.01            4.01\n",
      "7    금천구      11.51        10.83            2.34\n",
      "8    노원구      29.31        28.65            3.77\n",
      "9    도봉구      32.80         4.04            3.63\n",
      "10  동대문구       3.38         2.71            2.93\n",
      "11   동작구      11.20        10.60            5.93\n",
      "12   마포구      12.18         8.68           11.58\n",
      "13  서대문구      15.93        15.09            3.53\n",
      "14   서초구      36.59        34.63            5.39\n",
      "15   성동구      10.84         4.32           10.21\n",
      "16   성북구      19.46        10.52            3.84\n",
      "17    소계      17.96        12.38            5.75\n",
      "18   송파구       7.24         3.19            6.66\n",
      "19   양천구       6.94         5.98            5.03\n",
      "20  영등포구       7.55         1.66            7.43\n",
      "21   용산구       7.81         3.33            7.10\n",
      "22   은평구      30.58        14.01            4.69\n",
      "23   종로구      76.00        41.45           20.08\n",
      "24    중구      24.32        23.65           10.55\n",
      "25   중랑구      13.42        12.95            4.86\n"
     ]
    }
   ],
   "source": [
    "\n",
    "\n",
    "# ▶️ 유기동물 마리수 가져오기\n",
    "query = \"\"\"\n",
    "SELECT district_category_2, per_capita_park_area_sqm, per_capita_urban_park_area_sqm, per_capita_walkable_park_area_sqm\n",
    "FROM per_capita_park_area\n",
    "WHERE district_category_2  not like \"서울대공원\"\n",
    "ORDER BY district_category_2;\n",
    "\"\"\"\n",
    "df = pd.read_sql(query, engine)\n",
    "df.columns =['자치구', '1인당 공원 면적', '1인당 도시공원 면적', '1인당 도보생활권공원 면적']\n",
    "\n",
    "print(df)\n"
   ]
  }
 ],
 "metadata": {
  "kernelspec": {
   "display_name": "venv",
   "language": "python",
   "name": "python3"
  },
  "language_info": {
   "codemirror_mode": {
    "name": "ipython",
    "version": 3
   },
   "file_extension": ".py",
   "mimetype": "text/x-python",
   "name": "python",
   "nbconvert_exporter": "python",
   "pygments_lexer": "ipython3",
   "version": "3.12.3"
  }
 },
 "nbformat": 4,
 "nbformat_minor": 5
}
