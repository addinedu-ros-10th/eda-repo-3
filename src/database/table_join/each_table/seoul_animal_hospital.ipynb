{
 "cells": [
  {
   "cell_type": "code",
   "execution_count": 1,
   "id": "8b8f256f",
   "metadata": {},
   "outputs": [],
   "source": [
    "import matplotlib.pyplot as plt\n",
    "import koreanize_matplotlib\n",
    "import pandas as pd\n",
    "import seaborn as sns\n",
    "from sqlalchemy import create_engine\n",
    "from dotenv import load_dotenv\n",
    "import os\n",
    "import re\n",
    "import platform\n"
   ]
  },
  {
   "cell_type": "code",
   "execution_count": 4,
   "id": "c2b62ab3",
   "metadata": {},
   "outputs": [
    {
     "name": "stdout",
     "output_type": "stream",
     "text": [
      "     자치구  병원 수\n",
      "0    강남구    94\n",
      "1    송파구    83\n",
      "2    강동구    59\n",
      "3    서초구    53\n",
      "4    강서구    50\n",
      "5    양천구    49\n",
      "6    마포구    47\n",
      "7    노원구    45\n",
      "8    은평구    42\n",
      "9   영등포구    37\n",
      "10   광진구    36\n",
      "11   성북구    34\n",
      "12  동대문구    32\n",
      "13   중랑구    32\n",
      "14   구로구    29\n",
      "15   용산구    28\n",
      "16   성동구    27\n",
      "17   강북구    27\n",
      "18   관악구    27\n",
      "19  서대문구    27\n",
      "20   도봉구    26\n",
      "21   동작구    21\n",
      "22    중구    19\n",
      "23   금천구    16\n",
      "24   종로구    12\n"
     ]
    }
   ],
   "source": [
    "\n",
    "\n",
    "# ▒ 한글 폰트 설정\n",
    "if platform.system() == 'Darwin':\n",
    "    plt.rcParams['font.family'] = 'AppleGothic'\n",
    "elif platform.system() == 'Windows':\n",
    "    plt.rcParams['font.family'] = 'Malgun Gothic'\n",
    "else:\n",
    "    plt.rcParams['font.family'] = 'NanumGothic'\n",
    "plt.rcParams['axes.unicode_minus'] = False\n",
    "\n",
    "# ▶️ .env 파일의 환경변수 불러오기\n",
    "load_dotenv()\n",
    "host = os.getenv(\"DB_HOST\")\n",
    "user = os.getenv(\"DB_USER\")\n",
    "password = os.getenv(\"DB_PASSWORD\")\n",
    "database = os.getenv(\"DB_NAME\")\n",
    "\n",
    "# ▶️ MySQL 연결\n",
    "engine = create_engine(f\"mysql+pymysql://{user}:{password}@{host}:3306/{database}\")\n",
    "\n",
    "# ▒ 데이터 조회\n",
    "query = \"\"\"\n",
    "SELECT road_address, jibun_address\n",
    "FROM seoul_animal_hospital\n",
    "WHERE status_name in ('영업/정상')  -- 폐업 제외\n",
    "\"\"\"\n",
    "df = pd.read_sql(query, engine)\n",
    "\n",
    "\n",
    "# ▒ 자치구 추출 함수\n",
    "def extract_district(address):\n",
    "    # match = re.search(r'서울\\s*(\\S+구)', str(address))\n",
    "    # return match.group(1) if match else None\n",
    "    if address:\n",
    "        return address.split(' ')[1]\n",
    "    else:\n",
    "        None\n",
    "\n",
    "# ▒ 자치구 컬럼 생성\n",
    "df['자치구'] = df['road_address'].apply(extract_district)\n",
    "df['자치구'] = df['자치구'].fillna(df['jibun_address'].apply(extract_district))\n",
    "\n",
    "# print(df)\n",
    "\n",
    "# ▒ 병원 수 집계\n",
    "district_count = df['자치구'].value_counts().reset_index()\n",
    "district_count.columns = ['자치구', '병원 수']\n",
    "district_count = district_count.sort_values(by='병원 수', ascending=False)\n",
    "\n",
    "print(district_count)"
   ]
  }
 ],
 "metadata": {
  "kernelspec": {
   "display_name": "venv",
   "language": "python",
   "name": "python3"
  },
  "language_info": {
   "codemirror_mode": {
    "name": "ipython",
    "version": 3
   },
   "file_extension": ".py",
   "mimetype": "text/x-python",
   "name": "python",
   "nbconvert_exporter": "python",
   "pygments_lexer": "ipython3",
   "version": "3.12.3"
  }
 },
 "nbformat": 4,
 "nbformat_minor": 5
}
